{
 "cells": [
  {
   "cell_type": "markdown",
   "id": "4fa287cc-67b2-4b9b-af4c-83d6cdcb5997",
   "metadata": {},
   "source": [
    "# Operators and Expressions\n"
   ]
  },
  {
   "cell_type": "markdown",
   "id": "ee741a97-d6a9-4d50-83fd-838f076f68b3",
   "metadata": {},
   "source": [
    "*Types of Opertors in Python*\n",
    "1. Arithmetic operators(+,-,*,/,//,%,**)\n",
    "2. Assignment operators(=,+=,-=,..etc)\n",
    "3. logical operators(==,!=,>,<,>=,<=)\n",
    "   \n",
    "and a wide category of operators"
   ]
  },
  {
   "cell_type": "code",
   "execution_count": 12,
   "id": "ce039e7e-afd3-4cdc-a74c-60a0e301c859",
   "metadata": {},
   "outputs": [
    {
     "name": "stdout",
     "output_type": "stream",
     "text": [
      "13\n",
      "7\n",
      "30\n",
      "3.3333333333333335\n",
      "3\n",
      "1\n",
      "1000\n"
     ]
    }
   ],
   "source": [
    "#Arithmetic operators (+,-,*,/,//,%,**)\n",
    "a,b=10,3\n",
    "print(a+b)\n",
    "print(a-b)\n",
    "print(a*b)\n",
    "print(a/b)\n",
    "print(a//b)\n",
    "print(a%b)\n",
    "print(a**b)"
   ]
  },
  {
   "cell_type": "markdown",
   "id": "9c55572a-a2e2-49d3-97f1-8b0f06d4f638",
   "metadata": {},
   "source": [
    "*Expressions*\n",
    "expressions are operands + operators\n",
    "\n",
    "for example x=4+3*5\n",
    "\n",
    "operators have precedence and associativity in python and an expression is evaluated based on operators precedence and associativity\n",
    "\n",
    "*it is better to use fully parenthesized expressions*\n"
   ]
  },
  {
   "cell_type": "markdown",
   "id": "e9f6c2f2-f3f5-4907-bd2b-dda01cdeb69c",
   "metadata": {},
   "source": [
    "# Input and Output"
   ]
  },
  {
   "cell_type": "code",
   "execution_count": 19,
   "id": "90369cad-7159-4584-8ae6-62a7ee96d8ed",
   "metadata": {},
   "outputs": [
    {
     "name": "stdin",
     "output_type": "stream",
     "text": [
      "Enter your name karimm\n"
     ]
    },
    {
     "name": "stdout",
     "output_type": "stream",
     "text": [
      "Hello karimm\n"
     ]
    },
    {
     "name": "stdin",
     "output_type": "stream",
     "text": [
      "Enter your age 25\n"
     ]
    },
    {
     "name": "stdout",
     "output_type": "stream",
     "text": [
      "Hello karimm you are 25 years old\n"
     ]
    },
    {
     "name": "stdin",
     "output_type": "stream",
     "text": [
      "Enter your Salary 10.2\n"
     ]
    },
    {
     "name": "stdout",
     "output_type": "stream",
     "text": [
      "your salary is 10.2\n"
     ]
    }
   ],
   "source": [
    "#input and output\n",
    "#the function input() is for allowing user to enter data, it returns user input as a string\n",
    "#the function print() outputs on the screen and it supports formatted printing using f before \"\"\n",
    "name=input(\"Enter your name\")\n",
    "print(\"Hello\",name)\n",
    "\n",
    "age=int(input(\"Enter your age\"))\n",
    "print(\"Hello \" +name,f\"you are {age} years old\")\n",
    "\n",
    "salary=float(input(\"Enter your Salary\"))\n",
    "print(\"your salary is\",f\"{salary}\")"
   ]
  },
  {
   "cell_type": "code",
   "execution_count": 21,
   "id": "23ec31b8-2404-4a54-a3b3-a27f5da22a52",
   "metadata": {},
   "outputs": [
    {
     "name": "stdin",
     "output_type": "stream",
     "text": [
      "enter two numbers seperated by a space 20 30\n"
     ]
    },
    {
     "name": "stdout",
     "output_type": "stream",
     "text": [
      "20 30\n"
     ]
    }
   ],
   "source": [
    "# handling multiple inputs at once\n",
    "a,b=input(\"enter two numbers seperated by a space\").split(' ')\n",
    "print(f\"{a} {b}\")\n",
    "# split() splits the inputs as different seperated inputs, you can decide the seperation\n",
    "# character to be a space coma or anything , default is white space .split(' ')"
   ]
  },
  {
   "cell_type": "code",
   "execution_count": 23,
   "id": "caefaecd-8572-40e7-9ab3-fddff09e8a6b",
   "metadata": {},
   "outputs": [
    {
     "name": "stdout",
     "output_type": "stream",
     "text": [
      "Hello ?world0"
     ]
    }
   ],
   "source": [
    "#using sep and end in print\n",
    "print(\"Hello\",\"world\",sep=' ?',end='0')"
   ]
  },
  {
   "cell_type": "markdown",
   "id": "f09450fd-23cf-42f3-a6c4-51d1bc73e561",
   "metadata": {},
   "source": [
    "# String concatenation and String Repetition"
   ]
  },
  {
   "cell_type": "code",
   "execution_count": 28,
   "id": "f913e109-e181-4c8c-b999-923fc98285ed",
   "metadata": {},
   "outputs": [
    {
     "name": "stdout",
     "output_type": "stream",
     "text": [
      "Karim Ahmed\n",
      "KarimKarimKarim\n"
     ]
    }
   ],
   "source": [
    "#string concatenation\n",
    "#when you use + operator with strings it concatenates them\n",
    "s1=\"Karim\"\n",
    "s2=\"Ahmed\"\n",
    "s3=\" \"\n",
    "s4=s1+s3+s2\n",
    "print(s4)\n",
    "\n",
    "#string repetition\n",
    "#when you use * operator with strings it repeats them \n",
    "s4=s1*3\n",
    "print(s4)"
   ]
  },
  {
   "cell_type": "markdown",
   "id": "dd3c6d7b-31b5-4b1a-9946-c31bb58eb76c",
   "metadata": {},
   "source": [
    "# Resultant Expression"
   ]
  },
  {
   "cell_type": "code",
   "execution_count": 5,
   "id": "b2599777-b071-441c-b66d-1871322ab8d9",
   "metadata": {},
   "outputs": [
    {
     "name": "stdout",
     "output_type": "stream",
     "text": [
      "<class 'float'>\n",
      "<class 'complex'>\n",
      "<class 'int'>\n"
     ]
    }
   ],
   "source": [
    "#all operators work with integer,float,boolean\n",
    "#all operators work with complex except ?,%\n",
    "#in an expression the resultant is the type of the biggest datatype bool<int<float<complex\n",
    "\n",
    "a=True +10+20.5\n",
    "print(type(a))\n",
    "a=10+20+9j\n",
    "print(type(a))\n",
    "a=False+5\n",
    "print(type(a))"
   ]
  },
  {
   "cell_type": "code",
   "execution_count": null,
   "id": "7b6b69c8-fc6e-47a3-a186-3e5e17e41036",
   "metadata": {},
   "outputs": [],
   "source": []
  }
 ],
 "metadata": {
  "kernelspec": {
   "display_name": "Python 3 (ipykernel)",
   "language": "python",
   "name": "python3"
  },
  "language_info": {
   "codemirror_mode": {
    "name": "ipython",
    "version": 3
   },
   "file_extension": ".py",
   "mimetype": "text/x-python",
   "name": "python",
   "nbconvert_exporter": "python",
   "pygments_lexer": "ipython3",
   "version": "3.12.7"
  }
 },
 "nbformat": 4,
 "nbformat_minor": 5
}
