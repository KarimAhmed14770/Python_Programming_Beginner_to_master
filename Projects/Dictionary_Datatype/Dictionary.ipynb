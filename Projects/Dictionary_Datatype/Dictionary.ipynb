{
 "cells": [
  {
   "cell_type": "markdown",
   "id": "daa2c7c9-12fb-4eef-8c6f-a53190ae09b1",
   "metadata": {},
   "source": [
    "# Dictionary Datatype:"
   ]
  },
  {
   "cell_type": "markdown",
   "id": "58dae1e2-8dd5-4588-a3ae-9e6a15f4f9b9",
   "metadata": {},
   "source": [
    "**Dictionary:** it is a key-value pair structure in which every key has a corresponding value, it is very fast in searching for data,**All keys must be unique but values can be duplicated**"
   ]
  },
  {
   "cell_type": "code",
   "execution_count": 1,
   "id": "a5fc38c2-3ca6-488f-b522-f6b931daa48c",
   "metadata": {},
   "outputs": [
    {
     "name": "stdout",
     "output_type": "stream",
     "text": [
      "<class 'dict'> {1: 'One', 2: 'Two', 3: 'Three'}\n"
     ]
    }
   ],
   "source": [
    "#how to create a dictionary\n",
    "#1) dict_name={key1_name:value1,key2_name:value2,....etc}, the key value pair is one element of the dictionary\n",
    "dict_={1:\"One\",2:\"Two\",3:\"Three\"}\n",
    "print(type(dict_),dict_)"
   ]
  },
  {
   "cell_type": "code",
   "execution_count": 2,
   "id": "dd5002cc-9148-410d-955a-ce26aa6a267e",
   "metadata": {},
   "outputs": [
    {
     "name": "stdout",
     "output_type": "stream",
     "text": [
      "<class 'dict'> {}\n"
     ]
    }
   ],
   "source": [
    "#2)creating an empty dictionary: dict_name={} \n",
    "dict_={}\n",
    "print(type(dict_),dict_)"
   ]
  },
  {
   "cell_type": "code",
   "execution_count": 3,
   "id": "5e859836-cb57-48c1-bf89-522e7143360e",
   "metadata": {},
   "outputs": [
    {
     "name": "stdout",
     "output_type": "stream",
     "text": [
      "<class 'dict'> {1: 'One', 2: 'Two', 3: 'Three'}\n",
      "<class 'dict'> {'First Name': 'Karim', 'Second Name': 'Ahmed', 'Third Name': 'Hamdy'}\n",
      "<class 'dict'> {'age': 25, 'Gender': 'Male', 'Score': 'A+'}\n",
      "<class 'dict'> {'Country': 'Egypt', 'Governorate': 'Cairo', 'City': 'New nozha'}\n",
      "<class 'dict'> {'Name': 'Marwan', 'Discipline': 'CS', 'Level': 'junior', 'Salary': 20000}\n"
     ]
    }
   ],
   "source": [
    "#3)creating a dictionary using iterable pairs, and passing it to dict:\n",
    "iterable_pair1=[(1,\"One\"),(2,\"Two\"),(3,\"Three\")] #this is called iterable pairs, an iterable that consists of ordered pairs\n",
    "dict_=dict(iterable_pair1)#tuples inside a list\n",
    "print(type(dict_),dict_)\n",
    "#iterable pairs can be list in a tuple or tuple in a list or nested lists or nested tuples\n",
    "it_pairs2=[[\"First Name\",\"Karim\"], [\"Second Name\",\"Ahmed\"], [\"Third Name\",\"Hamdy\"]]#nested lists\n",
    "dict_=dict(it_pairs2)\n",
    "print(type(dict_),dict_)\n",
    "it_pairs3=((\"age\",25),(\"Gender\",\"Male\"),(\"Score\",\"A+\"))#nested tuples\n",
    "dict_=dict(it_pairs3)\n",
    "print(type(dict_),dict_)\n",
    "it_pairs4=([\"Country\",\"Egypt\"],[\"Governorate\",\"Cairo\"],[\"City\",\"New nozha\"])\n",
    "dict_=dict(it_pairs4)\n",
    "print(type(dict_),dict_)\n",
    "it_pairs5=([\"Name\",\"Marwan\"],(\"Discipline\",\"CS\"),[\"Level\",\"junior\"],(\"Salary\",20000))#mix of tuples,lists in a tuple\n",
    "dict_=dict(it_pairs5)\n",
    "print(type(dict_),dict_)"
   ]
  },
  {
   "cell_type": "code",
   "execution_count": 4,
   "id": "3b0212b1-e1ee-4010-a56c-31bccc82a83c",
   "metadata": {},
   "outputs": [
    {
     "name": "stdout",
     "output_type": "stream",
     "text": [
      "zipped:<zip object at 0x0000028888009200>\n",
      "<class 'dict'> {1: 'One', 2: 'Two', 3: 'Three', 4: 'Four', 5: 'Five', 6: 'Six'}\n",
      "<class 'dict'> {1: 'One', 2: 'Two', 3: 'Three', 4: 'Four', 5: 'Five', 6: 'Six'}\n"
     ]
    }
   ],
   "source": [
    "#4)creating a dictionary using the zip function: create an iterable of keys and an iterable of values,zip the in an iterable pair using zip\n",
    "keys=[1,2,3,4,5,6]\n",
    "values=(\"One\",\"Two\",\"Three\",\"Four\",\"Five\",\"Six\")\n",
    "zipped=zip(keys,values)# returns a zip object \n",
    "print(f\"zipped:{zipped}\")\n",
    "dict_=dict(zip(keys,values))\n",
    "print(type(dict_),dict_)\n",
    "\n",
    "keys=[1,2,3,4,5,6,7]\n",
    "values=(\"One\",\"Two\",\"Three\",\"Four\",\"Five\",\"Six\")\n",
    "dict_=dict(zip(keys,values))\n",
    "print(type(dict_),dict_)\n"
   ]
  },
  {
   "cell_type": "markdown",
   "id": "54dc4600-b4a1-4139-8f5a-3b32b5c8cd2d",
   "metadata": {},
   "source": [
    "**zip function**: The zip() function in Python is used to combine multiple iterables element-wise. It returns an iterator of tuples., if there is an extra keys or extra values the function zip will ignore them"
   ]
  },
  {
   "cell_type": "code",
   "execution_count": 5,
   "id": "2cff0cac-fa9b-4e01-a384-6d0d20c1d192",
   "metadata": {},
   "outputs": [
    {
     "name": "stdout",
     "output_type": "stream",
     "text": [
      "<enumerate object at 0x0000028887FA9C00>\n",
      "<class 'dict'> {1: 10, 2: 20, 3: 30, 4: 40, 5: 50}\n"
     ]
    }
   ],
   "source": [
    "#5)creating a dictionary using the enumerate function:takes an iterable and bounds each element to an index starting from zero\n",
    "#the start index could be changed,then passed to dict for ditionary creation\n",
    "l1=[10,20,30,40,50]\n",
    "enumerated=enumerate(l1,start=1)# returns an enumerate object\n",
    "print(enumerated)\n",
    "dict_=dict(enumerate(l1,start=1))\n",
    "print(type(dict_),dict_)\n"
   ]
  },
  {
   "cell_type": "markdown",
   "id": "be9d2aa1-50be-47d6-977d-e8892b4d3d2f",
   "metadata": {},
   "source": [
    "**Accessing a Dictionary**:(Read,Modify,Write)"
   ]
  },
  {
   "cell_type": "code",
   "execution_count": 6,
   "id": "434e6fd1-b01d-4d09-9b1e-99be7ff2a2c7",
   "metadata": {},
   "outputs": [
    {
     "name": "stdout",
     "output_type": "stream",
     "text": [
      "<class 'dict'> {'Name': 'Marwan', 'Discipline': 'CS', 'Level': 'junior', 'Salary': 20000}\n"
     ]
    }
   ],
   "source": [
    "it_pairs5=([\"Name\",\"Marwan\"],(\"Discipline\",\"CS\"),[\"Level\",\"junior\"],(\"Salary\",20000))#mix of tuples,lists in a tuple\n",
    "dict_=dict(it_pairs5)\n",
    "print(type(dict_),dict_)"
   ]
  },
  {
   "cell_type": "code",
   "execution_count": 7,
   "id": "c8ce4ef5-03b0-431b-b2fb-8dccbec96bbd",
   "metadata": {},
   "outputs": [
    {
     "name": "stdout",
     "output_type": "stream",
     "text": [
      "Marwan\n"
     ]
    }
   ],
   "source": [
    "#to read an element access it through indexing and use the key as the index\n",
    "print(dict_[\"Name\"])"
   ]
  },
  {
   "cell_type": "code",
   "execution_count": 8,
   "id": "2d447ea9-1a94-4b66-a6ab-4756d98bf8f0",
   "metadata": {},
   "outputs": [
    {
     "name": "stdout",
     "output_type": "stream",
     "text": [
      "{'Name': 'Karim', 'Discipline': 'CS', 'Level': 'junior', 'Salary': 20000}\n"
     ]
    }
   ],
   "source": [
    "#to edit an element in the dictionary use its key and modify the value \n",
    "dict_[\"Name\"]=\"Karim\"\n",
    "print(dict_)"
   ]
  },
  {
   "cell_type": "code",
   "execution_count": 9,
   "id": "384e6748-5cce-4161-8f57-9954af6b6529",
   "metadata": {},
   "outputs": [
    {
     "name": "stdout",
     "output_type": "stream",
     "text": [
      "{'Name': 'Karim', 'Discipline': 'CS', 'Level': 'junior', 'Salary': 20000, 'Sport': 'Gym'}\n"
     ]
    }
   ],
   "source": [
    "#to add a new key-value pair, type a new key in the index and give it a value\n",
    "dict_[\"Sport\"]=\"Gym\"\n",
    "print(dict_)"
   ]
  },
  {
   "cell_type": "code",
   "execution_count": 10,
   "id": "ae2d2091-4035-44fe-a010-d4658c1dc29f",
   "metadata": {},
   "outputs": [
    {
     "name": "stdout",
     "output_type": "stream",
     "text": [
      "Name : Karim\n",
      "Discipline : CS\n",
      "Level : junior\n",
      "Salary : 20000\n",
      "Sport : Gym\n"
     ]
    }
   ],
   "source": [
    "#traversing through a  dict\n",
    "for key in dict_:#this will return the keys of the dictionary in key\n",
    "    print(key,\":\",dict_[key])"
   ]
  },
  {
   "cell_type": "markdown",
   "id": "a0ff1921-635b-48e9-8815-28552a0d41c9",
   "metadata": {},
   "source": [
    "**Dictionary Comperhension**:\n"
   ]
  },
  {
   "cell_type": "code",
   "execution_count": 11,
   "id": "56203096-8581-4c89-bcff-0b530cc0efa4",
   "metadata": {},
   "outputs": [
    {
     "name": "stdout",
     "output_type": "stream",
     "text": [
      "{0: 3, 1: 5, 2: 9, 3: 15, 4: 23, 5: 33, 6: 45, 7: 59, 8: 75, 9: 93}\n",
      "{0: 'Zero', 1: 'One', 2: 'Two'}\n"
     ]
    }
   ],
   "source": [
    "#must prepare an iterable pair then make dictionary comperhension: dict_={x:y for x,y in iterable pair}\n",
    "keys=[x for x in range(10)]\n",
    "values=(*(x**2 +3+x for x in range(10)),)\n",
    "dict_={x:y for x,y in zip(keys,values)}\n",
    "print(dict_)\n",
    "\n",
    "values=(\"Zero\",\"One\",\"Two\")\n",
    "dict_={x:y for x,y in enumerate(values)}\n",
    "print(dict_)"
   ]
  },
  {
   "cell_type": "markdown",
   "id": "636845b3-94c5-474f-a06d-f0d74297142c",
   "metadata": {},
   "source": [
    "## Looping over a dictionary using dictionary methods:"
   ]
  },
  {
   "cell_type": "code",
   "execution_count": 12,
   "id": "9ab241cc-75d9-421a-ae1f-643c13340bb6",
   "metadata": {},
   "outputs": [
    {
     "name": "stdout",
     "output_type": "stream",
     "text": [
      "<class 'dict'> {'Name': 'Marwan', 'Discipline': 'CS', 'Level': 'junior', 'Salary': 20000}\n"
     ]
    }
   ],
   "source": [
    "#dictionary methods for looping\n",
    "it_pairs5=([\"Name\",\"Marwan\"],(\"Discipline\",\"CS\"),[\"Level\",\"junior\"],(\"Salary\",20000))#mix of tuples,lists in a tuple\n",
    "dict_=dict(it_pairs5)\n",
    "print(type(dict_),dict_)\n"
   ]
  },
  {
   "cell_type": "code",
   "execution_count": 13,
   "id": "f6cb443c-f7ec-421b-9e29-2bcbc44422e6",
   "metadata": {},
   "outputs": [
    {
     "name": "stdout",
     "output_type": "stream",
     "text": [
      "dict_keys(['Name', 'Discipline', 'Level', 'Salary'])\n",
      "Name\n",
      "Discipline\n",
      "Level\n",
      "Salary\n"
     ]
    }
   ],
   "source": [
    "#1)keys() returns all keys in an object containing a  list \n",
    "keys=dict_.keys()\n",
    "print(keys)\n",
    "for key in dict_.keys():\n",
    "    print(key)"
   ]
  },
  {
   "cell_type": "code",
   "execution_count": 14,
   "id": "06cf7e8e-5ba3-4460-84b8-97e2fad012ea",
   "metadata": {},
   "outputs": [
    {
     "name": "stdout",
     "output_type": "stream",
     "text": [
      "dict_values(['Marwan', 'CS', 'junior', 20000])\n",
      "Marwan\n",
      "CS\n",
      "junior\n",
      "20000\n"
     ]
    }
   ],
   "source": [
    "#2)values() return all values in an object containing a list\n",
    "values=dict_.values()\n",
    "print(values)\n",
    "for value in dict_.values():\n",
    "    print(value)"
   ]
  },
  {
   "cell_type": "code",
   "execution_count": 15,
   "id": "cbc14d8b-fc42-41df-922e-61db7e9f0b38",
   "metadata": {},
   "outputs": [
    {
     "name": "stdout",
     "output_type": "stream",
     "text": [
      "dict_items([('Name', 'Marwan'), ('Discipline', 'CS'), ('Level', 'junior'), ('Salary', 20000)])\n",
      "Name : Marwan\n",
      "Discipline : CS\n",
      "Level : junior\n",
      "Salary : 20000\n"
     ]
    }
   ],
   "source": [
    "#3)items() returns an object that is a list of tuples of key,value pairs\n",
    "items=dict_.items()\n",
    "print(items)\n",
    "for key,value in dict_.items():\n",
    "    print(key,\":\",value)"
   ]
  },
  {
   "cell_type": "markdown",
   "id": "e404ab55-d649-409c-b21d-71623992c4f0",
   "metadata": {},
   "source": [
    "## some dictionary methods:"
   ]
  },
  {
   "cell_type": "code",
   "execution_count": 16,
   "id": "5162c701-2f01-45e1-a0f1-cdd59a0f2951",
   "metadata": {},
   "outputs": [
    {
     "name": "stdout",
     "output_type": "stream",
     "text": [
      "{'Name': 'Marwan', 'Discipline': 'CS', 'Level': 'junior', 'Salary': 20000}\n"
     ]
    }
   ],
   "source": [
    "print(dict_)"
   ]
  },
  {
   "cell_type": "code",
   "execution_count": 17,
   "id": "999077b1-21e6-42db-9a2e-0ed48590d6dc",
   "metadata": {},
   "outputs": [
    {
     "name": "stdout",
     "output_type": "stream",
     "text": [
      "Marwan\n",
      "age does not exist\n",
      "{'Name': 'Marwan', 'Discipline': 'CS', 'Level': 'junior', 'Salary': 20000}\n"
     ]
    }
   ],
   "source": [
    "#1) get(key,default) you pass the key and it gets the element, if the key doesn't exist it teturns the default,this is a safe way to access dictionary\n",
    "#elements using keys, if the key is not found it does not raise an error\n",
    "name=dict_.get(\"Name\")\n",
    "print(name)\n",
    "age=dict_.get(\"age\",\"age does not exist\")\n",
    "print(age)\n",
    "print(dict_)\n",
    "#print(dict_[\"age\"]) will raise a KeyError"
   ]
  },
  {
   "cell_type": "code",
   "execution_count": 18,
   "id": "13de1103-4c54-46a5-b8bd-2f7606e23e13",
   "metadata": {},
   "outputs": [
    {
     "name": "stdout",
     "output_type": "stream",
     "text": [
      "Marwan\n",
      "21\n",
      "{'Name': 'Marwan', 'Discipline': 'CS', 'Level': 'junior', 'Salary': 20000, 'Age': 21}\n"
     ]
    }
   ],
   "source": [
    "#2)setdefault(key,default) returns the value if the key exists , if the key doesn't exist it sets the value\n",
    "name=dict_.setdefault(\"Name\",\"Ahmed\")\n",
    "print(name)\n",
    "age=dict_.setdefault(\"Age\",21)\n",
    "print(age)\n",
    "print(dict_)"
   ]
  },
  {
   "cell_type": "code",
   "execution_count": 19,
   "id": "0727a6d9-d3e8-4e29-9c87-bf5050d6c1ad",
   "metadata": {},
   "outputs": [
    {
     "name": "stdout",
     "output_type": "stream",
     "text": [
      "{'Name': 'Karim Ahmed', 'Age': 26, 'Location': 'Cairo', 'Discipline': 'Mechatronics'}\n",
      "{'Name': 'Karim Ahmed Hamdy', 'Age': 26, 'Location': 'Cairo', 'Discipline': 'Mechatronics', 'Salary': 50000}\n",
      "{'Name': 'Karim Ahmed Hamdy', 'Age': 26, 'Location': 'Cairo', 'Discipline': 'Mechatronics', 'Salary': 50000, 'a': 5, 'b': 6}\n"
     ]
    }
   ],
   "source": [
    "#3)update(dictionary or iterable pairs):update method is used to update a dictionary with a new one or with iterable pairs\n",
    "dict1={\"Name\":\"Karim Ahmed\",\"Age\":25,\"Location\":\"Cairo\"}\n",
    "dict2={\"Age\":26,\"Discipline\":\"Mechatronics\"}\n",
    "dict1.update(dict2)#will update age and add discipline\n",
    "print(dict1)\n",
    "\n",
    "list1=[(\"Salary\",50000),(\"Name\",\"Karim Ahmed Hamdy\")]\n",
    "dict1.update(list1)\n",
    "print(dict1)\n",
    "\n",
    "#it can also take multiple update sources\n",
    "dict1.update(a=5,b=6)\n",
    "print(dict1)"
   ]
  },
  {
   "cell_type": "code",
   "execution_count": 20,
   "id": "3b95d1d3-e3e0-4926-a9d6-b43a22214999",
   "metadata": {},
   "outputs": [
    {
     "name": "stdout",
     "output_type": "stream",
     "text": [
      "{0: 10, 1: 10, 2: 10, 3: 10, 4: 10, 5: 10, 6: 10, 7: 10, 8: 10, 9: 10}\n"
     ]
    }
   ],
   "source": [
    "#4)fromkeys(sequence,default)#makes a dictionary with keys from an iterable and gives it all default value\n",
    "dict2=dict2.fromkeys(list(range(10)),10)\n",
    "print(dict2)\n"
   ]
  },
  {
   "cell_type": "code",
   "execution_count": 21,
   "id": "81c5c040-13e9-4b78-9bf8-bf2aaad34e3a",
   "metadata": {},
   "outputs": [
    {
     "name": "stdout",
     "output_type": "stream",
     "text": [
      "{'Name': 'Karim Ahmed Hamdy', 'Age': 26, 'Location': 'Cairo', 'Discipline': 'Mechatronics', 'Salary': 50000, 'a': 5, 'b': 6}\n"
     ]
    }
   ],
   "source": [
    "#5)copy() makes a shallow copy()\n",
    "dict2=dict1.copy()\n",
    "print(dict2)\n"
   ]
  },
  {
   "cell_type": "markdown",
   "id": "c557e62a-548e-43f4-85ea-90b72ebb7986",
   "metadata": {},
   "source": [
    "**Removing elements from a dictionary:**\n"
   ]
  },
  {
   "cell_type": "code",
   "execution_count": 22,
   "id": "4916a81a-a53f-45ca-b665-87278f9245e7",
   "metadata": {},
   "outputs": [
    {
     "name": "stdout",
     "output_type": "stream",
     "text": [
      "{'Name': 'Karim Ahmed Hamdy', 'Age': 26, 'Location': 'Cairo', 'Discipline': 'Mechatronics', 'Salary': 50000, 'b': 6}\n"
     ]
    }
   ],
   "source": [
    "#1) using del dict_name[key_name] , if key doesn't exist it gives error\n",
    "del dict2[\"a\"]\n",
    "print(dict2)"
   ]
  },
  {
   "cell_type": "code",
   "execution_count": 23,
   "id": "43c7975c-01da-44b2-891d-7e32fbb15074",
   "metadata": {},
   "outputs": [
    {
     "name": "stdout",
     "output_type": "stream",
     "text": [
      "6\n",
      "{'Name': 'Karim Ahmed Hamdy', 'Age': 26, 'Location': 'Cairo', 'Discipline': 'Mechatronics', 'Salary': 50000}\n",
      "None\n",
      "{'Name': 'Karim Ahmed Hamdy', 'Age': 26, 'Location': 'Cairo', 'Discipline': 'Mechatronics', 'Salary': 50000}\n"
     ]
    }
   ],
   "source": [
    "#2)pop(key,default) removes the element by key and return its value, if it doesn't exist it returns default value\n",
    "popped=dict2.pop(\"b\",0)\n",
    "print(popped)\n",
    "print(dict2)\n",
    "popped=dict2.pop(\"Faculty\",\"None\")\n",
    "print(popped)\n",
    "print(dict2)"
   ]
  },
  {
   "cell_type": "code",
   "execution_count": 24,
   "id": "c652c8d1-d328-4f61-9728-25c37ddf4fc6",
   "metadata": {},
   "outputs": [
    {
     "name": "stdout",
     "output_type": "stream",
     "text": [
      "('Salary', 50000)\n",
      "{'Name': 'Karim Ahmed Hamdy', 'Age': 26, 'Location': 'Cairo', 'Discipline': 'Mechatronics'}\n"
     ]
    }
   ],
   "source": [
    "#3)popitem() removes the last element in the dictionary and returns it\n",
    "popped=dict2.popitem()\n",
    "print(popped)\n",
    "print(dict2)"
   ]
  },
  {
   "cell_type": "code",
   "execution_count": 25,
   "id": "ec5466fc-5699-47eb-a3a7-7a32f1460e33",
   "metadata": {},
   "outputs": [
    {
     "name": "stdout",
     "output_type": "stream",
     "text": [
      "{}\n"
     ]
    }
   ],
   "source": [
    "#4)clear(), clears the dictionary\n",
    "dict2.clear()\n",
    "print(dict2)"
   ]
  },
  {
   "cell_type": "code",
   "execution_count": null,
   "id": "146931a1-e0a4-413d-9882-da240d348bb4",
   "metadata": {},
   "outputs": [],
   "source": []
  }
 ],
 "metadata": {
  "kernelspec": {
   "display_name": "Python 3 (ipykernel)",
   "language": "python",
   "name": "python3"
  },
  "language_info": {
   "codemirror_mode": {
    "name": "ipython",
    "version": 3
   },
   "file_extension": ".py",
   "mimetype": "text/x-python",
   "name": "python",
   "nbconvert_exporter": "python",
   "pygments_lexer": "ipython3",
   "version": "3.10.18"
  }
 },
 "nbformat": 4,
 "nbformat_minor": 5
}
