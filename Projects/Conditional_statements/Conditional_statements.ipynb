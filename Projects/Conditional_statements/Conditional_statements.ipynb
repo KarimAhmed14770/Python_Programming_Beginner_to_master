{
 "cells": [
  {
   "cell_type": "markdown",
   "id": "8595071d-0020-4a1c-8d7f-42029516cae2",
   "metadata": {},
   "source": [
    "# Conditional Statements"
   ]
  },
  {
   "cell_type": "markdown",
   "id": "dd0549fc-3617-4805-876b-88741e6651f8",
   "metadata": {},
   "source": [
    "## Conditional statement in python"
   ]
  },
  {
   "cell_type": "code",
   "execution_count": 4,
   "id": "ac3806b6-6254-4eca-b2df-8a4ee2c59780",
   "metadata": {},
   "outputs": [],
   "source": [
    "# if (condition):\n",
    "    #body\n",
    "# elif (condition):\n",
    "    #body\n",
    "# else:\n",
    "    #body\n"
   ]
  },
  {
   "cell_type": "markdown",
   "id": "3083eb35-1108-415c-9885-9a727c6b40af",
   "metadata": {},
   "source": [
    "## Relational Operators"
   ]
  },
  {
   "cell_type": "code",
   "execution_count": 6,
   "id": "8fcc56af-ea27-4abf-8aae-f13e11068666",
   "metadata": {},
   "outputs": [],
   "source": [
    "# realational operators are <,>,<=,>=,==\n",
    "#they give true or false "
   ]
  },
  {
   "cell_type": "markdown",
   "id": "8f879503-7954-4f52-ab63-0bf25880d5e0",
   "metadata": {},
   "source": [
    "## Logical Operators"
   ]
  },
  {
   "cell_type": "code",
   "execution_count": 8,
   "id": "671306d4-fc95-4766-8c6d-6d18c814ba07",
   "metadata": {},
   "outputs": [],
   "source": [
    "##logical operators are and,or,not"
   ]
  },
  {
   "cell_type": "markdown",
   "id": "8e1699ad-ecdc-437d-a516-aa8a7427411b",
   "metadata": {},
   "source": [
    "## challenges using Conditional statements"
   ]
  },
  {
   "cell_type": "code",
   "execution_count": 10,
   "id": "b23a724b-0f77-46ef-b088-c41cf657493c",
   "metadata": {},
   "outputs": [
    {
     "name": "stdin",
     "output_type": "stream",
     "text": [
      "enter an integer: 2\n"
     ]
    },
    {
     "name": "stdout",
     "output_type": "stream",
     "text": [
      "2 is even\n"
     ]
    }
   ],
   "source": [
    "#1 check the number is odd or even\n",
    "a=int(input('enter an integer:'))\n",
    "if(a==0):\n",
    "    print(\"you entered 0\")\n",
    "elif (a%2==0):\n",
    "    print(f\"{a} is even\")\n",
    "else:\n",
    "    print(f\"{a} is odd\")"
   ]
  },
  {
   "cell_type": "code",
   "execution_count": 11,
   "id": "36fb15e5-f297-4378-8c01-37a8ae13d1bd",
   "metadata": {},
   "outputs": [
    {
     "name": "stdin",
     "output_type": "stream",
     "text": [
      "enter your age 12\n"
     ]
    },
    {
     "name": "stdout",
     "output_type": "stream",
     "text": [
      "not eligible to work\n"
     ]
    }
   ],
   "source": [
    "#2 is he eligible to work (based on age) eligible to work are between 18 and 60 years\n",
    "a=int(input(\"enter your age\"))\n",
    "if (a>=18) and (a<60):\n",
    "    print(\"Eligible to work\")\n",
    "else:\n",
    "    print(\"not eligible to work\")\n"
   ]
  },
  {
   "cell_type": "code",
   "execution_count": 12,
   "id": "f5943bcf-253e-478c-9bfb-53934c8a2f28",
   "metadata": {},
   "outputs": [
    {
     "name": "stdin",
     "output_type": "stream",
     "text": [
      "enter a character:  a\n"
     ]
    },
    {
     "name": "stdout",
     "output_type": "stream",
     "text": [
      "a is vowel\n"
     ]
    }
   ],
   "source": [
    "#3 check if a character is vowel or consonant vowels(a,e,i,o,u)\n",
    "char=input('enter a character: ').lower()\n",
    "\n",
    "if(char=='a' or char=='e' or char=='i' or char=='o' or char=='u' ):\n",
    "    print(f\"{char} is vowel\")\n",
    "else:\n",
    "    print(f\"{char} is consonant\")"
   ]
  },
  {
   "cell_type": "code",
   "execution_count": 26,
   "id": "9cb4f346-c1cf-4db5-aba4-77ed8be8b409",
   "metadata": {},
   "outputs": [
    {
     "name": "stdin",
     "output_type": "stream",
     "text": [
      "the bill amount 9000\n"
     ]
    },
    {
     "name": "stdout",
     "output_type": "stream",
     "text": [
      "the bill after discount is: 7200.0\n"
     ]
    }
   ],
   "source": [
    "#challenge 1 :Discounted bills (if bill amount is less than 1000 15% discount,bbetween 1000 and 5000 15%, 5000 to 10000 20%\n",
    "#greater than 10000 25%\n",
    "x=float(input('the bill amount'))\n",
    "new_bill=0\n",
    "discount=0\n",
    "if(x<1000):\n",
    "    if(x>=0):\n",
    "        discount=0.1\n",
    "        new_bill=x-(x*discount)\n",
    "    else:\n",
    "        print('bill can\\'t be negative')\n",
    "elif (x<5000):\n",
    "    discount=0.15\n",
    "    new_bill=x-(x*discount)\n",
    "elif (x<10_000):\n",
    "    discount=0.2\n",
    "    new_bill=x-(x*discount)\n",
    "else:\n",
    "    discount=0.25\n",
    "    new_bill=x-(x*discount)\n",
    "print(f'the bill after discount is: {new_bill}')\n"
   ]
  },
  {
   "cell_type": "code",
   "execution_count": 28,
   "id": "e4f52df0-7e08-44e7-b52b-1a70d2fd1c48",
   "metadata": {},
   "outputs": [
    {
     "name": "stdin",
     "output_type": "stream",
     "text": [
      "enter day number:  4\n"
     ]
    },
    {
     "name": "stdout",
     "output_type": "stream",
     "text": [
      "day 4 is Tuesday\n"
     ]
    }
   ],
   "source": [
    "# challenge 2 weekday name ( if day number is given you give day name,month number to name,digit in words)\n",
    "day_no=int(input('enter day number: '))\n",
    "if(day_no==1):\n",
    "    print(f\"day {day_no} is Saturday\")\n",
    "elif (day_no==2):\n",
    "    print(f\"day {day_no} is Sunday\")\n",
    "elif (day_no==3):\n",
    "    print(f\"day {day_no} is Monday\")\n",
    "elif (day_no==4):\n",
    "    print(f\"day {day_no} is Tuesday\")\n",
    "elif (day_no==5):\n",
    "    print(f\"day {day_no} is Wednesday\")\n",
    "elif (day_no==6):\n",
    "    print(f\"day {day_no} is Thursday\")\n",
    "elif (day_no==7):\n",
    "    print(f\"day {day_no} is Friday\")\n",
    "else:\n",
    "    print(\"invalid day number\")"
   ]
  },
  {
   "cell_type": "code",
   "execution_count": 32,
   "id": "473615e7-0ba9-4454-85a8-949c19db6f9f",
   "metadata": {},
   "outputs": [
    {
     "name": "stdin",
     "output_type": "stream",
     "text": [
      "enter day number:  7\n"
     ]
    },
    {
     "name": "stdout",
     "output_type": "stream",
     "text": [
      "month 7 is July\n"
     ]
    }
   ],
   "source": [
    "month_no=int(input('enter day number: '))\n",
    "if(month_no==1):\n",
    "    print(f\"month {month_no} is January\")\n",
    "elif (month_no==2):\n",
    "    print(f\"month {month_no} is February\")\n",
    "elif (month_no==3):\n",
    "    print(f\"month {month_no} is March\")\n",
    "elif (month_no==4):\n",
    "    print(f\"month {month_no} is April\")\n",
    "elif (month_no==5):\n",
    "    print(f\"month {month_no} is May\")\n",
    "elif (month_no==6):\n",
    "    print(f\"month {month_no} is June\")\n",
    "elif (month_no==7):\n",
    "    print(f\"month {month_no} is July\")\n",
    "elif (month_no==8):\n",
    "    print(f\"month {month_no} is August\")\n",
    "elif (month_no==9):\n",
    "    print(f\"month {month_no} is September\")\n",
    "elif (month_no==10):\n",
    "    print(f\"month {month_no} is December\")\n",
    "elif (month_no==11):\n",
    "    print(f\"month {month_no} is November\")\n",
    "elif (month_no==12):\n",
    "    print(f\"month {month_no} is December\")\n",
    "else:\n",
    "    print(\"invalid month nuber\")"
   ]
  },
  {
   "cell_type": "markdown",
   "id": "32a73439-540a-475d-9611-a4e3a4b17250",
   "metadata": {},
   "source": [
    "## Nested if"
   ]
  },
  {
   "cell_type": "code",
   "execution_count": 35,
   "id": "fcc4448e-1f97-4a84-a4bf-0aa7d1efc6e7",
   "metadata": {},
   "outputs": [],
   "source": [
    "#syntax\n",
    "#if condition:\n",
    "#    if condition:\n",
    "#         body\n",
    "#    elif condition:\n",
    "#         body\n",
    "#else:\n",
    "#    body\n"
   ]
  },
  {
   "cell_type": "markdown",
   "id": "eb2c79fd-85a7-49bc-9ff9-ef42088f6ea7",
   "metadata": {},
   "source": [
    "## String comparison"
   ]
  },
  {
   "cell_type": "code",
   "execution_count": 46,
   "id": "3b5b346f-d142-4e2d-94dd-852dc9ee7e39",
   "metadata": {},
   "outputs": [
    {
     "name": "stdout",
     "output_type": "stream",
     "text": [
      "True\n",
      "True\n",
      "True\n"
     ]
    }
   ],
   "source": [
    "#relational operators that work for strings (<,>,<=,>=,==,!=)\n",
    "#string coparison is done lexicographically as in dictionary orders\n",
    "#what comes first in dictionary is smaller than what comes after and numbers<upper case letters<lower case letters\n",
    "if 'Apple'<'apple':\n",
    "    print('True')\n",
    "if('Apple'=='Apple'):\n",
    "    print('True')\n",
    "if('2nd'<'Baby'<'baby'):\n",
    "    print(\"True\")"
   ]
  },
  {
   "cell_type": "markdown",
   "id": "0a723a0a-91a7-4551-ad81-1d192195e1cd",
   "metadata": {},
   "source": [
    "## Chain Comparison, is and is not"
   ]
  },
  {
   "cell_type": "code",
   "execution_count": 76,
   "id": "23b4c0c6-338c-416e-8272-da028cf5638e",
   "metadata": {},
   "outputs": [
    {
     "name": "stdout",
     "output_type": "stream",
     "text": [
      "True\n",
      "False\n",
      "True\n",
      "False\n",
      "True\n"
     ]
    }
   ],
   "source": [
    "#chain comparison\n",
    "if('2nd'<'Baby'<'baby'):#this is translated to if ('2nd'<'Baby') and ('Baby'<'baby'): this happens with and operator only\n",
    "    print(\"True\")\n",
    "#is and is not\n",
    "#is and is not operators chec if both variables have the same id in memory or not if they have the same id result is true else false\n",
    "a=10000\n",
    "b=10000\n",
    "print(f\"{a is b}\") #this should be true \n",
    "a=10\n",
    "b=10\n",
    "print(f\"{a is b}\") #this should be true \n",
    "a=11\n",
    "b=10\n",
    "print(f\"{a is b}\") #this should be false \n",
    "print(f\"{a is not b}\") #this should be True \n",
    "#as two variables have the same value in python they will have the same id, but in jupyter somehow this don't work for integers >256 in pycharm or any\n",
    "#other python platform any two variables having the same value points to the same id"
   ]
  },
  {
   "cell_type": "markdown",
   "id": "3e677ce0-0b92-483f-866b-6a5d195bcc07",
   "metadata": {},
   "source": [
    "## Short circuit and Non-Boolean Conditions"
   ]
  },
  {
   "cell_type": "code",
   "execution_count": 54,
   "id": "da184926-c05a-4afc-b1e7-b40f96eac545",
   "metadata": {},
   "outputs": [
    {
     "name": "stdout",
     "output_type": "stream",
     "text": [
      "5\n",
      "10\n"
     ]
    }
   ],
   "source": [
    "#short circuit wors with logical operators and, or\n",
    "#if the first value in an or expression is true, it doesn't check the remaining of the condition and it evaluates to true\n",
    "#if the first value of an and expression is false, it doesn't check the remaining of the condition and evaluates is to false\n",
    "a,b,c=10,5,3\n",
    "#if (a>b) or (b<c): here the second condition will not e checked because a>b is true, the whole condition evaluates to true\n",
    "#if (a<b) and (b<c): here the second condition will not e checked because a<b is false, the whole condition evaluates to false\n",
    "\n",
    "#Non Boolean conditions:\n",
    "#if 5 and 10: if the given values to and are numbers only and both are non zero values it will give the last checked number\n",
    "cond_val=(a and b)\n",
    "print(cond_val)\n",
    "#if 10 or 5 :if the given values to or are numbers only and both are non zero values it will give the first checked number\n",
    "cond_val=(a or b)\n",
    "print(cond_val)"
   ]
  },
  {
   "cell_type": "markdown",
   "id": "8a052bb3-d19e-4f51-ba87-f97689084488",
   "metadata": {},
   "source": [
    "## Bitwise operators"
   ]
  },
  {
   "cell_type": "code",
   "execution_count": 67,
   "id": "5684d8d8-9075-482e-a8b6-921881419b6a",
   "metadata": {},
   "outputs": [
    {
     "name": "stdout",
     "output_type": "stream",
     "text": [
      " 0b1010\n",
      "|\n",
      " 0b1011011\n",
      "=0b1011011\n",
      "\n",
      " 0b1010\n",
      "&\n",
      " 0b1011011\n",
      "=0b1010\n",
      "\n"
     ]
    }
   ],
   "source": [
    "#Bitwise operators (&,|,^,~,<<,>>)\n",
    "# these operators work on integer data and perform operations on the binary representation of this data, they perform bitwise\n",
    "a=10\n",
    "b=91\n",
    "print(f\" {bin(a)}\\n|\\n {bin(b)}\\n={bin(a|b)}\\n\")\n",
    "print(f\" {bin(a)}\\n&\\n {bin(b)}\\n={bin(a&b)}\\n\")\n"
   ]
  },
  {
   "cell_type": "code",
   "execution_count": null,
   "id": "1e6324ee-ac5e-4495-a4d5-ddf878aaea9f",
   "metadata": {},
   "outputs": [],
   "source": []
  }
 ],
 "metadata": {
  "kernelspec": {
   "display_name": "Python 3 (ipykernel)",
   "language": "python",
   "name": "python3"
  },
  "language_info": {
   "codemirror_mode": {
    "name": "ipython",
    "version": 3
   },
   "file_extension": ".py",
   "mimetype": "text/x-python",
   "name": "python",
   "nbconvert_exporter": "python",
   "pygments_lexer": "ipython3",
   "version": "3.12.7"
  }
 },
 "nbformat": 4,
 "nbformat_minor": 5
}
