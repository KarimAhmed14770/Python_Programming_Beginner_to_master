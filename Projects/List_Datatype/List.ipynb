{
 "cells": [
  {
   "cell_type": "markdown",
   "id": "feae7cb1-ac47-49d6-82cf-241c14918954",
   "metadata": {},
   "source": [
    "# List:"
   ]
  },
  {
   "cell_type": "code",
   "execution_count": 2,
   "id": "1560f70b-6cac-4514-8475-026569e97c94",
   "metadata": {},
   "outputs": [],
   "source": [
    "#list is a built-in data structure available in python\n"
   ]
  },
  {
   "cell_type": "markdown",
   "id": "ab23d6f8-e20e-47c2-bba2-3db6987535ab",
   "metadata": {},
   "source": [
    "**How to Create a list in python**:"
   ]
  },
  {
   "cell_type": "code",
   "execution_count": 3,
   "id": "bc15eb30-4058-4655-9d35-92527a912bdd",
   "metadata": {},
   "outputs": [
    {
     "name": "stdout",
     "output_type": "stream",
     "text": [
      "<class 'list'> [1, 2, 3, 4, 5]\n",
      "<class 'list'> [1, 2, 3]\n",
      "<class 'list'> ['P', 'y', 't', 'h', 'o', 'n']\n",
      "<class 'list'> [[1, 3, 4], 2, 3, 'Chad']\n",
      "<class 'list'> []\n"
     ]
    }
   ],
   "source": [
    "#1 ordinary method list_name=[list elements seperated by ,]\n",
    "L1=[1,2,3,4,5]\n",
    "print(type(L1),L1)\n",
    "\n",
    "#2 using list function list_name=list(iterable) each element of the iterbale becomes an element of the list\n",
    "iterable=(1,2,3)\n",
    "L1=list(iterable)\n",
    "print(type(L1),L1)\n",
    "\n",
    "iterable='Python'\n",
    "L1=list(iterable)\n",
    "print(type(L1),L1)\n",
    "\n",
    "iterable=([1,3,4],2,3,'Chad')\n",
    "L1=list(iterable)\n",
    "print(type(L1),L1)\n",
    "\n",
    "#3 create empyt list list_name=[]\n",
    "L1=[]\n",
    "print(type(L1),L1)\n",
    "\n",
    "#4 using list comprehension\n",
    "#will be covered later\n"
   ]
  },
  {
   "cell_type": "markdown",
   "id": "631345f1-c3ff-42d8-a43c-6af58d8b1644",
   "metadata": {},
   "source": [
    "**List layout in memory**:\n"
   ]
  },
  {
   "cell_type": "code",
   "execution_count": 4,
   "id": "6e38c83b-59d3-4f60-b160-71ffb5caeb1c",
   "metadata": {},
   "outputs": [],
   "source": [
    "#the list_name is a reference to the list in memory with each element in the list is a reference to its corresponding value in the memory\n",
    "#each element in the list has +ve and -ve index, for +ve index starts from 0 and -ve index starts from -1 for the last elemment in the list\n",
    "#list is heterogenous: in the same list u can have various datattypes including int,float,list,tuple ...etc\n",
    "#a list is an array of references,and it is mutable"
   ]
  },
  {
   "cell_type": "markdown",
   "id": "6cdaebb4-e3a1-4a4f-bfd2-354f3c0dfb2d",
   "metadata": {},
   "source": [
    "**adding and removing elements from the list**:"
   ]
  },
  {
   "cell_type": "code",
   "execution_count": 5,
   "id": "6d1162a4-e3a2-4959-b30f-a958f2ee8de3",
   "metadata": {},
   "outputs": [
    {
     "name": "stdout",
     "output_type": "stream",
     "text": [
      "[10, 20, 30, 40, 50]\n",
      "[10, 20, 30, 50]\n"
     ]
    }
   ],
   "source": [
    "L1=[10,20,30,40]\n",
    "#append(element) adds an element to the end of the list \n",
    "L1.append(50)\n",
    "print(L1)\n",
    "#remove(element) removes an element of the list, if the element does not exist it will give error\n",
    "L1.remove(40)\n",
    "print(L1)\n"
   ]
  },
  {
   "cell_type": "markdown",
   "id": "00ae4182-6ef0-423f-a00b-0ad358d4d407",
   "metadata": {},
   "source": [
    "**Indexing and Slicing in a List(Reading)**:"
   ]
  },
  {
   "cell_type": "code",
   "execution_count": 6,
   "id": "8d60bb55-21a1-4552-aa87-4946ea6e0ea8",
   "metadata": {},
   "outputs": [
    {
     "name": "stdout",
     "output_type": "stream",
     "text": [
      "15\n",
      "15\n"
     ]
    }
   ],
   "source": [
    "#list is mutable so you can read or write\n",
    "L1=[3,6,9,12,15,18,21]\n",
    "#indexing:use list_name[index] to access an element\n",
    "print(L1[4])\n",
    "print(L1[-3])"
   ]
  },
  {
   "cell_type": "code",
   "execution_count": 7,
   "id": "3c5a5de1-b3fa-42b7-b32c-50b7f43f26eb",
   "metadata": {},
   "outputs": [
    {
     "name": "stdout",
     "output_type": "stream",
     "text": [
      "[3, 6, 9, 12, 15, 18, 21]\n",
      "[3, 6, 9, 12, 15, 18]\n",
      "[9, 12, 15]\n",
      "[21, 18, 15, 12]\n",
      "[21, 18, 15, 12, 9, 6, 3]\n"
     ]
    }
   ],
   "source": [
    "#slicing: slicing has three parts [start:stop:step] if the step is -ve start>stop or it gives error by default start=0 stop=last element step=1\n",
    "print(L1[::])\n",
    "print(L1[:6]) # it will not reach index 6 but will stop at index 6-1 which is 5\n",
    "print(L1[2:5:1])#it will start from index 2 and stop at index 4\n",
    "print(L1[6:2:-1])#it will start from index 6 and move in reverse and it will stop at index 3\n",
    "print(L1[::-1])#will print the list in reverse"
   ]
  },
  {
   "cell_type": "markdown",
   "id": "30e64726-e343-4f1c-a06f-1d7db968fa46",
   "metadata": {},
   "source": [
    "**Indexing and Slicing in a List(Writing)**:"
   ]
  },
  {
   "cell_type": "code",
   "execution_count": 8,
   "id": "2ac690b0-656f-41af-b702-1efe6fd09d48",
   "metadata": {},
   "outputs": [
    {
     "name": "stdout",
     "output_type": "stream",
     "text": [
      "[3, 6, 9, 13, 15, 18, 21]\n",
      "[3, 6, 9, 13, [1, 2, 3], 18, 21]\n"
     ]
    }
   ],
   "source": [
    "L1=[3,6,9,12,15,18,21]\n",
    "L1[3]=13 #you can insert any element in an index by assigning it in that index\n",
    "print(L1)\n",
    "L1[4]=[1,2,3]#you can insert a list as an element of a list(nested list)\n",
    "print(L1)"
   ]
  },
  {
   "cell_type": "code",
   "execution_count": 9,
   "id": "cc9daadb-6807-4934-aefa-5ef2b7b7bdc6",
   "metadata": {},
   "outputs": [
    {
     "name": "stdout",
     "output_type": "stream",
     "text": [
      "[1, 2, 3, 4, 5]\n",
      "[1, 2]\n",
      "[1, 2, 3, 4, 5]\n",
      "[10]\n",
      "[1, 2, 3, 4, 5, 6, 7, 8]\n",
      "[1, 2, 10, 20, 30, 40, 50, 70, 21, 6, 7, 8]\n",
      "[1, 2, 3, 4, 5, 6, 7, 8]\n",
      "[1, 2, 10, 6, 7, 8]\n"
     ]
    }
   ],
   "source": [
    "#slicing:\n",
    "#list_name[start:stop]= [you can assign any number of elements] this doesn't insert a nested list but the elements of a list\n",
    "\n",
    "L1=[1,2,3,4,5]\n",
    "print(L1)\n",
    "L1[:]=[1,2]\n",
    "print(L1)\n",
    "L1=[1,2,3,4,5]\n",
    "print(L1)\n",
    "#L1[:]=10 this line will give error \n",
    "L1[:]=[10]\n",
    "print(L1)\n",
    "L1=[1,2,3,4,5,6,7,8]\n",
    "print(L1)\n",
    "L1[2:5]=[10,20,30,40,50,70,21] #it will remove elements from index 2 to 5-1 and\n",
    "#start adding from index 2 and keeping elements after index 5-1 on the right\n",
    "print(L1)\n",
    "L1=[1,2,3,4,5,6,7,8]\n",
    "print(L1)\n",
    "L1[2:5]=[10]\n",
    "print(L1)\n",
    "\n"
   ]
  },
  {
   "cell_type": "code",
   "execution_count": 10,
   "id": "7f507155-67f1-4abb-be4c-f0037870c29d",
   "metadata": {},
   "outputs": [
    {
     "name": "stdout",
     "output_type": "stream",
     "text": [
      "[1, 2, 3, 4, 5, 6, 7, 8]\n",
      "[1, 9, 3, 9, 5, 6, 7, 8]\n",
      "[80, 70, 60, 50, 40, 30, 20, 10]\n",
      "[1, 2, 3, 4, 5, 6, 7, 8]\n",
      "[1, 2, 30, 20, 10, 6, 7, 8]\n"
     ]
    }
   ],
   "source": [
    "#list_name[start:stop:step]=[you must assign exact number of elements] this doesn't insert a nested list but the elements of a list\n",
    "L1=[1,2,3,4,5,6,7,8]\n",
    "print(L1)\n",
    "L1[1:4:2]=[9,9] \n",
    "print(L1)\n",
    "L1=[1,2,3,4,5,6,7,8]\n",
    "L1[::-1]=[10,20,30,40,50,60,70,80] #inserts the eleents in reverse order\n",
    "print(L1)\n",
    "L1=[1,2,3,4,5,6,7,8]\n",
    "print(L1)\n",
    "L1[4:1:-1]=[10,20,30]# 10 will be in index 3,20 in index 3, 30 in index 2\n",
    "print(L1)"
   ]
  },
  {
   "cell_type": "markdown",
   "id": "bfe2f889-85a5-420c-8a67-9b66c5a55dd0",
   "metadata": {},
   "source": [
    "**List Concatenation an Repetetion**:\n"
   ]
  },
  {
   "cell_type": "code",
   "execution_count": 11,
   "id": "2c5c42ef-e495-40b8-b432-977c406de41f",
   "metadata": {},
   "outputs": [
    {
     "name": "stdout",
     "output_type": "stream",
     "text": [
      "[1, 2, 3, 4, 5, 6]\n",
      "[1, 2, 3, 1, 2, 3, 1, 2, 3]\n",
      "True\n",
      "False\n",
      "True\n"
     ]
    }
   ],
   "source": [
    "#1)Concatenation(+)\n",
    "#2)Repetition(*)\n",
    "#3)Membership(in,not in)\n",
    "#4)List Comparison(<,<=,>,>=,==,!=)\n",
    "\n",
    "#Concatenation: adds the second list at the end of the first list\n",
    "L1,L2=[1,2,3],[4,5,6]\n",
    "L3=L1+L2\n",
    "print(L3)\n",
    "#Repetition: repeats the list\n",
    "L3=L1*3\n",
    "print(L3)\n",
    "#Membership\n",
    "print(1 in L1)\n",
    "print(2 not in L1)\n",
    "#List Comparison: compares the elements 1 by 1 and doesn't consider number of elements in any list\n",
    "print(L2>L1)\n"
   ]
  },
  {
   "cell_type": "markdown",
   "id": "c2ed0616-91d0-4c3b-93d9-a2733ab88f97",
   "metadata": {},
   "source": [
    "**List Traversal**:"
   ]
  },
  {
   "cell_type": "code",
   "execution_count": 12,
   "id": "97cf9f9f-7b55-4d01-b624-cfcc5ce384a1",
   "metadata": {},
   "outputs": [
    {
     "name": "stdout",
     "output_type": "stream",
     "text": [
      "1\n",
      "2\n",
      "3\n",
      "4\n",
      "5\n",
      "1\n",
      "2\n",
      "3\n",
      "4\n",
      "5\n",
      "1\n",
      "2\n",
      "3\n",
      "4\n",
      "5\n"
     ]
    }
   ],
   "source": [
    "#traversing a list is visiting all the elements in a list\n",
    "L1=[1,2,3,4,5]\n",
    "#method 1:\n",
    "for x in L1:\n",
    "    print(x)\n",
    "\n",
    "#method 2:\n",
    "for x in range(len(L1)):\n",
    "    print(L1[x])\n",
    "\n",
    "#method 3:\n",
    "x=0\n",
    "while x<len(L1):\n",
    "    print(L1[x])\n",
    "    x+=1\n"
   ]
  },
  {
   "cell_type": "markdown",
   "id": "d690f1c1-5c89-45ea-99f6-40160b98880f",
   "metadata": {},
   "source": [
    "**Adding Elements to a list**:"
   ]
  },
  {
   "cell_type": "code",
   "execution_count": 13,
   "id": "3de17be1-b393-4974-abf0-3981f253398a",
   "metadata": {},
   "outputs": [
    {
     "name": "stdout",
     "output_type": "stream",
     "text": [
      "[1, 2, 3, 4, 5]\n",
      "[1, 2, 3, 4, 5, 6, 0, 'Python', [1, 2, 3]]\n",
      "[]\n",
      "[1, 2]\n",
      "[1, 2, 3, 10, 20, 30]\n",
      "[1, 2, 3, 10, 20, 30, 'K', 'a', 'r', 'i', 'm']\n",
      "[1, 2, 3, 4, 5, 6, 7, 8, 9, 10, 11, 12, 13, 14, 15, 16, 17, 18, 19, 20, 21, 22, 23, 24, 25, 26, 27, 28, 29, 30, 31, 32, 33, 34, 35, 36, 37, 38, 39, 40, 41, 42, 43, 44, 45, 46, 47, 48, 49, 50, 51, 52, 53, 54, 55, 56, 57, 58, 59, 60, 61, 62, 63, 64, 65, 66, 67, 68, 69, 70, 71, 72, 73, 74, 75, 76, 77, 78, 79, 80, 81, 82, 83, 84, 85, 86, 87, 88, 89, 90, 91, 92, 93, 94, 95, 96, 97, 98, 99]\n",
      "[0, 1, 2, 3, 4, 5, 6, 7, 8, 9, 10, 11, 12, 13, 14, 15, 16, 17, 18, 19, 20, 21, 22, 23, 24, 25, 26, 27, 28, 29, 30, 31, 32, 33, 34, 35, 36, 37, 38, 39, 40, 41, 42, 43, 44, 45, 46, 47, 48, 49, 50, 51, 52, 53, 54, 55, 56, 57, 58, 59, 60, 61, 62, 63, 64, 65, 66, 67, 68, 69, 70, 71, 72, 73, 74, 75, 76, 77, 78, 79, 80, 81, 82, 83, 84, 85, 86, 87, 88, 89, 90, 91, 92, 93, 94, 95, 96, 97, 98, 99, 100]\n",
      "[0, 1, 2, 3, 4, 5, 6, 7, 8, 9, 10, 11, 12, 13, 14, 15, 16, 17, 18, 19, 20, 21, 22, 23, 24, 25, 26, 27, 28, 29, 30, 31, 32, 33, 34, 35, 36, 37, 38, 39, 40, 41, 42, 43, 44, 45, 46, 47, 48, 49, 50, 51, 52, 53, 54, 55, 56, 57, 58, 59, 60, 61, 62, 63, 64, 65, 1010, 66, 67, 68, 69, 70, 71, 72, 73, 74, 75, 76, 77, 78, 79, 80, 81, 82, 83, 84, 85, 86, 87, 88, 89, 90, 91, 92, 93, 94, 95, 96, 97, 98, 99, 100]\n",
      "[]\n",
      "[0, 1, 2, 3, 4, 5, 6, 7, 8, 9, 10, 11, 12, 13, 14, 15, 16, 17, 18, 19, 20, 21, 22, 23, 24, 25, 26, 27, 28, 29, 30, 31, 32, 33, 34, 35, 36, 37, 38, 39, 40, 41, 42, 43, 44, 45, 46, 47, 48, 49, 50, 51, 52, 53, 54, 55, 56, 57, 58, 59, 60, 61, 62, 63, 64, 65, 1010, 66, 67, 68, 69, 70, 71, 72, 73, 74, 75, 76, 77, 78, 79, 80, 81, 82, 83, 84, 85, 86, 87, 88, 89, 90, 91, 92, 93, 94, 95, 96, 97, 98, 99, 100]\n"
     ]
    }
   ],
   "source": [
    "#1.append(element) adds an element at the end of a list\n",
    "#2.extend(iterable) adds an interable at the end of a list\n",
    "#3.insert(index,element) inserts and element at a given index in the list and shifts the rest rightside\n",
    "#4.copy() makes a copy of the list\n",
    "\n",
    "#append(element)\n",
    "L1=[1,2,3,4,5]\n",
    "print(L1)\n",
    "L1.append(6)\n",
    "L1.append(0)\n",
    "L1.append('Python')\n",
    "L1.append([1,2,3])\n",
    "print(L1)\n",
    "L1=[]\n",
    "print(L1)\n",
    "L1.append(1)\n",
    "L1.append(2)\n",
    "print(L1)\n",
    "\n",
    "#extend(iterable)\n",
    "L1=[1,2,3]\n",
    "t1=(10,20,30)\n",
    "L1.extend(t1)\n",
    "print(L1)\n",
    "s1='Karim'\n",
    "L1.extend(s1)\n",
    "print(L1)\n",
    "L1=[1,2,3]\n",
    "L1.extend(range(4,100,1))\n",
    "print(L1)\n",
    "\n",
    "\n",
    "#insert(index,element)\n",
    "L1=list(range(0,101,1))\n",
    "print(L1)\n",
    "L1.insert(66,1010)\n",
    "print(L1)\n",
    "\n",
    "#copy() makes a shallow copy\n",
    "L2=L1.copy()\n",
    "L1.clear()\n",
    "print(L1)\n",
    "print(L2)"
   ]
  },
  {
   "cell_type": "markdown",
   "id": "3de00dc3-0acc-4878-9940-076ef4e6d159",
   "metadata": {},
   "source": [
    "**Removing elements from a list**:"
   ]
  },
  {
   "cell_type": "code",
   "execution_count": 169,
   "id": "fc0cbbe0-5439-4118-be7e-dd3d64540788",
   "metadata": {},
   "outputs": [
    {
     "name": "stdout",
     "output_type": "stream",
     "text": [
      "[1, 2, 3, 4]\n",
      "[2, 3, 4]\n",
      "[2, 4]\n",
      "[]\n"
     ]
    }
   ],
   "source": [
    "#1) pop(index) remove an element fro a certain index and returns it \n",
    "#2) remove(element) removes the first occurece of a given element\n",
    "#3) clear() clears the list\n",
    "#4) del keyword: del list_name[element_index]\n",
    "\n",
    "L1=[1,2,3,4,5]\n",
    "L1.pop(4)\n",
    "print(L1)\n",
    "L1.remove(1)\n",
    "print(L1)\n",
    "del L1[1]\n",
    "print(L1)\n",
    "L1.clear()\n",
    "print(L1)\n",
    "del L1 #there is no L1\n",
    "#print(L1) #raises error after del L1 name 'L1' is not defined"
   ]
  },
  {
   "cell_type": "markdown",
   "id": "2348dfa8-f4d6-4c72-b900-286564260f97",
   "metadata": {},
   "source": [
    "**Index,Sort,Reverse**:"
   ]
  },
  {
   "cell_type": "code",
   "execution_count": 19,
   "id": "4efee1db-badc-4120-8b17-894e57404ff7",
   "metadata": {},
   "outputs": [
    {
     "name": "stdout",
     "output_type": "stream",
     "text": [
      "1\n",
      "3\n",
      "index=1 element=20\n",
      "index=4 element=20\n",
      "index=7 element=20\n",
      "3\n",
      "[8, 19, 20, 30, 50, 20, 40, 30, 20, 10]\n"
     ]
    }
   ],
   "source": [
    "#index(element,start,end) takes an element and starting index for search and ending index, searches and returns\n",
    "#the element index if  found if not found it gives an error\n",
    "L1=[10,20,30,40,20,50,30,20,19,8]\n",
    "print(L1.index(20))\n",
    "curr_index=0\n",
    "print(L1.count(20))\n",
    "for x in range(L1.count(20)):\n",
    "    curr_index=L1.index(20,curr_index+1)\n",
    "    print(f\"index={curr_index} element={L1[curr_index]}\")\n",
    "\n",
    "#count(elemment) it returns the number of occurences of an element in a list\n",
    "print(L1.count(20))\n",
    "\n",
    "#reverse() it reverses the list itself\n",
    "L1.reverse()\n",
    "print(L1)\n"
   ]
  },
  {
   "cell_type": "code",
   "execution_count": 20,
   "id": "4fd7c0ec-bd84-4915-a444-b4d47d7111ef",
   "metadata": {},
   "outputs": [
    {
     "name": "stdout",
     "output_type": "stream",
     "text": [
      "[10, 20, 40, 50, 70, 80, 90, 100]\n",
      "[100, 90, 80, 70, 50, 40, 20, 10]\n",
      "['cucumber', 'banana', 'apple']\n",
      "['Bat', 'Cat', 'Dog', 'apple']\n",
      "['apple', 'Bat', 'Cat', 'Dog']\n",
      "['Bat', 'Cat', 'Dog', 'apple']\n"
     ]
    }
   ],
   "source": [
    "#sort(*,key=None,reverse=False) key is an operation that is done on the values of the list before comparison, \n",
    "#it doesn't affect the list or values\n",
    "#it sorts the values ascendingly, for descending use reverse=True\n",
    "L1=[50,80,20,40,70,90,10,100]\n",
    "L1.sort()\n",
    "print(L1)\n",
    "L1=[50,80,20,40,70,90,10,100]\n",
    "L1.sort(reverse=True)\n",
    "print(L1)\n",
    "\n",
    "#for strings it sorts lexicographically\n",
    "L1=['apple','banana','cucumber']\n",
    "L1.sort(reverse=True)\n",
    "print(L1)\n",
    "L1=['apple','Bat','Cat','Dog']\n",
    "L1.sort()\n",
    "print(L1)\n",
    "L1.sort(key=str.lower) #it applies .lower function to all elements before comparison starts\n",
    "print(L1)\n",
    "L1.sort(key=len)# it sorts based on len\n",
    "print(L1)\n",
    "#key is an applied function to the elements of the list and the result is the compare basis, and then the original list elements are sorted"
   ]
  },
  {
   "cell_type": "markdown",
   "id": "5700519a-301a-4795-94a2-3491bc02234e",
   "metadata": {},
   "source": [
    "**List Comprehension**:"
   ]
  },
  {
   "cell_type": "code",
   "execution_count": 8,
   "id": "6b082c43-0db6-4e14-8768-e319bfc748ba",
   "metadata": {},
   "outputs": [
    {
     "name": "stdout",
     "output_type": "stream",
     "text": [
      "[0, 2, 4, 6, 8, 10, 12, 14, 16, 18, 20, 22, 24, 26, 28, 30, 32, 34, 36, 38, 40, 42, 44, 46, 48, 50, 52, 54, 56, 58, 60, 62, 64, 66, 68, 70, 72, 74, 76, 78, 80, 82, 84, 86, 88, 90, 92, 94, 96, 98]\n",
      "[1, 3, 5, 7, 9, 11, 13, 15, 17, 19, 21, 23, 25, 27, 29, 31, 33, 35, 37, 39, 41, 43, 45, 47, 49, 51, 53, 55, 57, 59, 61, 63, 65, 67, 69, 71, 73, 75, 77, 79, 81, 83, 85, 87, 89, 91, 93, 95, 97, 99]\n",
      "[0, 25, 100, 225, 400, 625, 900, 1225, 1600, 2025, 2500, 3025, 3600, 4225, 4900, 5625, 6400, 7225, 8100, 9025, 10000]\n"
     ]
    }
   ],
   "source": [
    "#synatax:List_name=[expression for x in iterable if condition]\n",
    "even_numbers=[x for x in range(100) if x%2==0]\n",
    "print(even_numbers)\n",
    "odd_numbers=[x for x in range(101) if x%2!=0]\n",
    "print(odd_numbers)\n",
    "div_by_5_squared=[x**2 for x in range(101) if x%5==0]\n",
    "print(div_by_5_squared)\n"
   ]
  },
  {
   "cell_type": "markdown",
   "id": "9747c19a-7309-4be5-b920-c8b61ef5e41b",
   "metadata": {},
   "source": [
    "**Nested List**:"
   ]
  },
  {
   "cell_type": "code",
   "execution_count": 39,
   "id": "c8fbf884-dd98-46dd-8bb5-431e89ec24d1",
   "metadata": {},
   "outputs": [
    {
     "name": "stdout",
     "output_type": "stream",
     "text": [
      "[[1, 2, 3], [4, 5, 6], [7, 8, 9], [10, 11, 12], [13, 14, 15]]\n",
      "3\n",
      "[1, 2, 3]\n",
      "[[1, 2, 3], [4, 5, 6], [7, 8, 9]]\n",
      "[1, 4, 7, 10, 13]\n",
      "[[1, 3], [4, 6], [7, 9], [10, 12], [13, 15]]\n"
     ]
    }
   ],
   "source": [
    "#nested list is used to represent matrices:\n",
    "#a 5*3 matrix\n",
    "mat5_3=[[1,2,3],[4,5,6],[7,8,9],[10,11,12],[13,14,15]]\n",
    "print(mat5_3)\n",
    "#each index of the outer list is a row number , and each index in the inner lists is a column nuber of the element\n",
    "#to access 1 element\n",
    "print(mat5_3[0][2])\n",
    "#to access an entire row mat3_3[row_number]\n",
    "print(mat5_3[0])\n",
    "#to access an multiple rows mat3_3[row_number]\n",
    "print(mat5_3[0:3])\n",
    "#to access an entire column\n",
    "col0=[row[0] for row in mat3_3] #mat3_3 returns each row for each iteration by saying that row[0] it takes the first element from each row\n",
    "#which is the first column\n",
    "print(col0)\n",
    "#accessing multiple columns\n",
    "col0_2=[[row[0],row[2]] for row in mat3_3] #what is returned is a row, i want a nested list that contains row[0],row[2] from each row\n",
    "#this means col 0 and col 2\n",
    "print(col0_2)"
   ]
  },
  {
   "cell_type": "code",
   "execution_count": null,
   "id": "3b2fc461-cb76-4c06-90c4-08653e28dcf9",
   "metadata": {},
   "outputs": [],
   "source": []
  }
 ],
 "metadata": {
  "kernelspec": {
   "display_name": "Python 3 (ipykernel)",
   "language": "python",
   "name": "python3"
  },
  "language_info": {
   "codemirror_mode": {
    "name": "ipython",
    "version": 3
   },
   "file_extension": ".py",
   "mimetype": "text/x-python",
   "name": "python",
   "nbconvert_exporter": "python",
   "pygments_lexer": "ipython3",
   "version": "3.10.18"
  }
 },
 "nbformat": 4,
 "nbformat_minor": 5
}
