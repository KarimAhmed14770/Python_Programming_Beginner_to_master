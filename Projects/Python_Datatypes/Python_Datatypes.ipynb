{
 "cells": [
  {
   "cell_type": "markdown",
   "id": "88de7add-e8d5-4615-a307-3e0c94d44765",
   "metadata": {},
   "source": [
    "\n",
    "# Python Datatypes Section\n"
   ]
  },
  {
   "cell_type": "markdown",
   "id": "1f7e6363-e589-4158-aa2f-ba40b297429d",
   "metadata": {
    "jp-MarkdownHeadingCollapsed": true
   },
   "source": [
    "## 1. what are variables?\n"
   ]
  },
  {
   "cell_type": "code",
   "execution_count": 56,
   "id": "b9b64b84-0e02-4f19-8fdf-9db5db5bf71e",
   "metadata": {},
   "outputs": [],
   "source": [
    "#import section\n",
    "import sys "
   ]
  },
  {
   "cell_type": "code",
   "execution_count": 58,
   "id": "f3a49e1d-3247-4d6d-b7c9-38de1645364f",
   "metadata": {},
   "outputs": [
    {
     "name": "stdout",
     "output_type": "stream",
     "text": [
      "150\n"
     ]
    }
   ],
   "source": [
    "#each variable name in python carries a reference for the data it holds\n",
    "#1)Normal Declaration and assignment\n",
    "#types of data in python are 3 :Integer data,float data,string data(single quote in python)\n",
    "length=15\n",
    "width=10\n",
    "area=length*width\n",
    "print(area)"
   ]
  },
  {
   "cell_type": "code",
   "execution_count": 60,
   "id": "d5614919-f06d-4ec5-8154-fe28235b2f81",
   "metadata": {},
   "outputs": [
    {
     "name": "stdout",
     "output_type": "stream",
     "text": [
      "[10, 11, 3, 2, 12]\n"
     ]
    }
   ],
   "source": [
    "prices=[10,11,3,2,12]\n",
    "print(prices)"
   ]
  },
  {
   "cell_type": "code",
   "execution_count": 62,
   "id": "00a174de-c72b-41d8-a46b-a7180bcd17ab",
   "metadata": {},
   "outputs": [
    {
     "name": "stdout",
     "output_type": "stream",
     "text": [
      "soap 12.5 1\n"
     ]
    }
   ],
   "source": [
    "#Multiple Declarations\n",
    "name,price,qty='soap',12.5,1\n",
    "print(name,price,qty)"
   ]
  },
  {
   "cell_type": "code",
   "execution_count": 64,
   "id": "c7e2ace7-2337-429c-aa60-dc35a31aab24",
   "metadata": {},
   "outputs": [
    {
     "name": "stdout",
     "output_type": "stream",
     "text": [
      "140715883178424 140715883178424 140715883178424 140715883178424 140715883178424 140715883178424\n"
     ]
    }
   ],
   "source": [
    "#multiple declarations\n",
    "#each variable in python has an id, if two variables have the same id it means they are pointing to or carrying the same data\n",
    "a=b=c=1\n",
    "w,e,z=1,1,1\n",
    "print(id(a),id(b),id(c),id(w),id(e),id(z))"
   ]
  },
  {
   "cell_type": "markdown",
   "id": "f2578499-4250-4b7e-9775-7d65d21a82db",
   "metadata": {
    "jp-MarkdownHeadingCollapsed": true
   },
   "source": [
    "## 2. Python is Dynamically Typed"
   ]
  },
  {
   "cell_type": "code",
   "execution_count": 67,
   "id": "389129e6-0f24-41bc-941f-6efc8b75ce96",
   "metadata": {},
   "outputs": [
    {
     "name": "stdout",
     "output_type": "stream",
     "text": [
      "<class 'int'>\n",
      "<class 'float'>\n",
      "<class 'str'>\n",
      "<class 'list'>\n"
     ]
    }
   ],
   "source": [
    "#python is dynamically typed, user don't need to state the datatype for the variable\n",
    "#one variable can hold various datatypes in the same program depending on the value assigned to it\n",
    "#this process of deciding datatype for the variable happens in runtime\n",
    "#type is a class because everything in python is an object\n",
    "a=15\n",
    "print(type(a))\n",
    "a=12.75\n",
    "print(type(a))\n",
    "a='karim'\n",
    "print(type(a))\n",
    "a=[10,21,30]\n",
    "print(type(a))\n"
   ]
  },
  {
   "cell_type": "markdown",
   "id": "f5fa9898-686d-4bfe-bcbc-eaf63e1c03ae",
   "metadata": {
    "jp-MarkdownHeadingCollapsed": true
   },
   "source": [
    "## 3.Python Datatypes"
   ]
  },
  {
   "cell_type": "code",
   "execution_count": 70,
   "id": "01983792-057a-4e28-a5df-7141c42265f1",
   "metadata": {},
   "outputs": [],
   "source": [
    "#python has a rich collection of datatypes\n",
    "#1)Numeric datatypes(int,float,bool,complex)\n",
    "#2)sequence or index-based datatypes(list,tuple,string)\n",
    "#3)Set\n",
    "#4)Dictionary"
   ]
  },
  {
   "cell_type": "markdown",
   "id": "8400e8c8-c2af-4c36-8d93-45158e6e3855",
   "metadata": {},
   "source": [
    "### 3.1 Numeric Datatypes"
   ]
  },
  {
   "cell_type": "markdown",
   "id": "8facd2a1-32bf-4845-92dd-1af0baf67645",
   "metadata": {},
   "source": [
    "#### 3.1.1 Integers"
   ]
  },
  {
   "cell_type": "code",
   "execution_count": 87,
   "id": "6e9a3b87-4f04-4a80-9f62-fe840dd378f5",
   "metadata": {
    "jupyter": {
     "source_hidden": true
    }
   },
   "outputs": [
    {
     "name": "stdout",
     "output_type": "stream",
     "text": [
      "10 -5 1234568910111213141516\n",
      "28\n",
      "28\n",
      "36\n",
      "140715883178872\n",
      "140715883179032\n",
      "140715883186584\n",
      "140715883186584\n",
      "2832521069360\n",
      "2832521069168\n"
     ]
    }
   ],
   "source": [
    "#1)Numeric datatypes\n",
    "#a)integers\n",
    "x=10\n",
    "y=-5\n",
    "#you can store up to many digits in an integer as you want, you can now the size of in using function getsizeof in sys module\n",
    "z=1234568910111213141516\n",
    "print(x,y,z)\n",
    "print(sys.getsizeof(x))\n",
    "print(sys.getsizeof(y))\n",
    "print(sys.getsizeof(z))\n",
    "#integers in python are immutable, when you say x=10 python creates an integer object of value 10 and makes x reference to this object, when u say \n",
    "#x=20 python creates or reuses an integer object of value 20 and akes x refernce to it, now x does not refer to 10,\n",
    "#if no other variables point to 10 python will garbage collect it eventually depending on reference count\n",
    "#this behavior means that integers are imutable in python\n",
    "#this process usually happens whith small integers only 0 to 256\n",
    "x=15\n",
    "print(id(x))\n",
    "x=20\n",
    "print(id(x))\n",
    "#x id is changed because it now points to a new value\n",
    "a=256\n",
    "b=256\n",
    "print(id(a))\n",
    "print(id(b))\n",
    "a=300\n",
    "b=300\n",
    "print(id(a))\n",
    "print(id(b))"
   ]
  },
  {
   "cell_type": "markdown",
   "id": "1b8edd8d-3378-4c1f-8b8e-af1fbd094cd3",
   "metadata": {},
   "source": [
    "#### 3.1.2 Floats"
   ]
  },
  {
   "cell_type": "code",
   "execution_count": 94,
   "id": "85e23d25-9439-4a20-aabe-7870d508a993",
   "metadata": {},
   "outputs": [
    {
     "name": "stdout",
     "output_type": "stream",
     "text": [
      "124.324\n",
      "-12.34\n"
     ]
    }
   ],
   "source": [
    "#floats in python has two formats \n",
    "#1)decimal point representation\n",
    "x=12.5\n",
    "x=0.98\n",
    "y=-99.7654\n",
    "#2)floating point representation\n",
    "x=125e2\n",
    "x=124324e-3\n",
    "print(x)\n",
    "y=-1234E-2\n",
    "print(y)\n"
   ]
  },
  {
   "cell_type": "markdown",
   "id": "62c2c676-4679-4ebe-b90f-ef05c286db38",
   "metadata": {},
   "source": [
    "#### 3.1.3 Boolean"
   ]
  },
  {
   "cell_type": "code",
   "execution_count": 107,
   "id": "52657ad1-62de-4ee3-ae0a-ec88ac3be585",
   "metadata": {},
   "outputs": [
    {
     "name": "stdout",
     "output_type": "stream",
     "text": [
      "1\n",
      "0\n",
      "True\n",
      "True\n",
      "False\n"
     ]
    }
   ],
   "source": [
    "#True or False is in capital T and F\n",
    "#booleans are used in conditions\n",
    "# the int for True is 1 , the int for False is 0 \n",
    "# the bool of 0 is False the bool of anything else is true\n",
    "x=True\n",
    "y=False\n",
    "print(int(x))\n",
    "print(int(y))\n",
    "x=10\n",
    "print(bool(x))\n",
    "x=-2\n",
    "print(bool(x))\n",
    "x=0\n",
    "print(bool(x))\n"
   ]
  },
  {
   "cell_type": "markdown",
   "id": "52504ccc-1a2f-4b9f-ac94-0e79087f5223",
   "metadata": {},
   "source": [
    "#### 3.1.4 Complex"
   ]
  },
  {
   "cell_type": "code",
   "execution_count": 120,
   "id": "a1475387-d495-4add-90a0-fe8e8b809e96",
   "metadata": {},
   "outputs": [
    {
     "name": "stdout",
     "output_type": "stream",
     "text": [
      "(5+6j)\n",
      "(10+25j)\n",
      "(15+31j)\n",
      "(-5-19j)\n",
      "(-100+185j)\n",
      "(0.27586206896551724-0.08965517241379309j)\n"
     ]
    }
   ],
   "source": [
    "#syntax var_name= real+imaginarypartj\n",
    "#operations +,-,*,/ are performed on complex numbers in python\n",
    "a=5+6j\n",
    "print(a)\n",
    "b=complex(10,25)\n",
    "print(b)\n",
    "print(a+b)\n",
    "print(a-b)\n",
    "print(a*b)\n",
    "print(a/b)"
   ]
  },
  {
   "cell_type": "markdown",
   "id": "4c3e5d7d-99d4-45e9-97c2-62768daa111d",
   "metadata": {},
   "source": [
    "### 3.2 Sequence Datatypes"
   ]
  },
  {
   "cell_type": "code",
   "execution_count": 124,
   "id": "257c76ad-f045-45e7-948e-bb6112f7e290",
   "metadata": {},
   "outputs": [],
   "source": [
    "#Sequence datatypes are 3:\n",
    "#1)List and its syntax is var_name=[values seperated by a comma]\n",
    "#2)tuple and its syntax is var_name=(values seperated by a comma)\n",
    "#3)string and its syntax is var_name='value'\n",
    "#sequence data types are index based datatypes"
   ]
  },
  {
   "cell_type": "markdown",
   "id": "f6cdca3a-03bb-4910-a305-d09838ed31e7",
   "metadata": {},
   "source": [
    "#### 3.2.1 List"
   ]
  },
  {
   "cell_type": "code",
   "execution_count": 151,
   "id": "f7c796dd-2287-49e9-945c-35dd5e97b631",
   "metadata": {},
   "outputs": [
    {
     "name": "stdout",
     "output_type": "stream",
     "text": [
      "[0, 10, 2, 3, 4, 5, 6]\n",
      "3\n",
      "[4, 6, 7, 8, 9]\n"
     ]
    }
   ],
   "source": [
    "#list elements can be modified after creation using indexes\n",
    "list1=[0,1,2,3,4,5,6]\n",
    "list1[1]=10\n",
    "print(list1)\n",
    "print(list1[3])\n",
    "list1=[4,6,7,8,9]\n",
    "print(list1)\n",
    "#note that you can change the refernce of the variable to a list, and can change the values of a created list through index"
   ]
  },
  {
   "cell_type": "markdown",
   "id": "bd1c7ab2-a688-4bd1-94b8-b7020aaeb7c1",
   "metadata": {},
   "source": [
    "#### 3.2.2 tuple"
   ]
  },
  {
   "cell_type": "code",
   "execution_count": 149,
   "id": "54c3624d-607c-4623-9f11-0933f0a54ced",
   "metadata": {},
   "outputs": [
    {
     "name": "stdout",
     "output_type": "stream",
     "text": [
      "(1, 2, 3, 4, 5)\n",
      "4\n",
      "(2, 3, 1, 4)\n"
     ]
    }
   ],
   "source": [
    "#tuple elements can't be modified once created\n",
    "tuple1=(1,2,3,4,5)\n",
    "##tuple1[0]=9 this line will cause error if kept(tuple object does not support item assignment)\n",
    "print(tuple1)\n",
    "print(tuple1[3])\n",
    "tuple1=(2,3,1,4)\n",
    "print(tuple1)\n",
    "#note that you can change the refernce of the variable to a tuple, but can't change the values of a created tuple"
   ]
  },
  {
   "cell_type": "markdown",
   "id": "fb87677a-d2f5-4505-b344-8e2a6afcf571",
   "metadata": {},
   "source": [
    "#### 3.2.2 String"
   ]
  },
  {
   "cell_type": "code",
   "execution_count": 157,
   "id": "aded88c2-9532-4de3-b23d-3e0cdbeece0b",
   "metadata": {},
   "outputs": [
    {
     "name": "stdout",
     "output_type": "stream",
     "text": [
      "karim\n",
      "Marwan Ahmed\n"
     ]
    }
   ],
   "source": [
    "#strings are like tuples but it holds characters\n",
    "name='karim'\n",
    "print(name)\n",
    "#name[1]='o' string object does not support item assignment\n",
    "name='Marwan Ahmed'\n",
    "print(name)\n",
    "#note that you can change the refernce of the variable to a string, but can't change the values of a created string"
   ]
  },
  {
   "cell_type": "markdown",
   "id": "2d0f1f66-9dd7-495e-8c43-1f61ed4eb048",
   "metadata": {},
   "source": [
    "### 3.3 Set Datatype"
   ]
  },
  {
   "cell_type": "code",
   "execution_count": 165,
   "id": "61952eda-38a5-419f-9639-067ae51551ba",
   "metadata": {},
   "outputs": [
    {
     "name": "stdout",
     "output_type": "stream",
     "text": [
      "{1, 2, 3, 4}\n"
     ]
    }
   ],
   "source": [
    "#set is a collection of values but the data will not have index ,it is unordered and it contains unique values only\n",
    "#you can add or remove elements ut you can't modify already given values because there is no index\n",
    "#syntax set_name={values seperated by comma}\n",
    "set1={1,2,3,4,1,2}\n",
    "print(set1)"
   ]
  },
  {
   "cell_type": "markdown",
   "id": "c32aef6f-2714-4468-a838-a4777140bc8d",
   "metadata": {},
   "source": [
    "### 3.4 Dictionary Datatype"
   ]
  },
  {
   "cell_type": "code",
   "execution_count": 174,
   "id": "f112cb30-bd70-4dbe-bcc8-cd859d33a707",
   "metadata": {},
   "outputs": [
    {
     "name": "stdout",
     "output_type": "stream",
     "text": [
      "{'name': 'Karim Ahmed Hamdy', 'age': 25, 'gender': 'Male', 'religion': 'Muslim'}\n",
      "Karim Ahmed Hamdy\n",
      "{'name': 'Marwan Ahmed Hamdy', 'age': 25, 'gender': 'Male', 'religion': 'Muslim'}\n"
     ]
    }
   ],
   "source": [
    "#dictionary syntax dict_name={'key1_name':value,'key2_name':value,'key3_name':value}\n",
    "dict1={'name':'Karim Ahmed Hamdy','age':25,'gender':'Male','religion':'Muslim'}\n",
    "print(dict1)\n",
    "print(dict1['name'])\n",
    "dict1['name']='Marwan Ahmed Hamdy'\n",
    "print(dict1)"
   ]
  },
  {
   "cell_type": "markdown",
   "id": "787d3526-24ab-42da-af4a-fa6fcd2dbc1b",
   "metadata": {},
   "source": [
    "## 4. Literlas and Constants"
   ]
  },
  {
   "cell_type": "code",
   "execution_count": 193,
   "id": "6f93069a-ede6-445f-a3d7-ada556a15c8b",
   "metadata": {},
   "outputs": [
    {
     "name": "stdout",
     "output_type": "stream",
     "text": [
      "135456321112\n",
      "0b1100100\n",
      "0o144\n",
      "0x64\n",
      "12522.3\n",
      "(1122+90887j)\n",
      "he asked her,\"Why did you do that?\"\n",
      "this car is karim's car\n",
      "i am\n",
      "a multi line \n",
      "string\n"
     ]
    }
   ],
   "source": [
    "#any constant data assigned directly to a variable is literal\n",
    "a=10\n",
    "b=5\n",
    "#here 10 and 5 are literlas\n",
    "c=a+b\n",
    "#d=input('enter name')\n",
    "# values assigned to c and d are not literals\n",
    "#literal types are: integer,float,bool, complex and string literals\n",
    "#a) integer literals\n",
    "a=975\n",
    "a=201\n",
    "#when a literal in python is large you can put underscores to ease readability\n",
    "b=135_456_321_112\n",
    "print(b)\n",
    "#integer literals can be in decimal,binary(0b),octal(0o),hexadecimal(0x) formats,with (0b,0o,0x) identifiers are for binary,octal,hexa respectively\n",
    "dec=102\n",
    "bina=0b01110110\n",
    "octa=0o723\n",
    "hexa=0xAF2A1\n",
    "#base conversion functions bin(),oct(),hex() converts decimal to binary,octal,hexa it takes integer returns string\n",
    "a=100\n",
    "print(bin(a))\n",
    "print(oct(a))\n",
    "print(hex(a))\n",
    "\n",
    "#b)float literals\n",
    "a=9.75\n",
    "b=10.0\n",
    "d=125_223E-1\n",
    "print(d)\n",
    "\n",
    "\n",
    "#c) boolean literals (True and False)\n",
    "a,b=True,False\n",
    "#d)complex literals\n",
    "a=4+9j\n",
    "b=11_22+908_87j\n",
    "print(b)\n",
    "\n",
    "\n",
    "#e) string literals\n",
    "#pyython string are written in single, double, triple quotes\n",
    "#1)single quote: it is a regular string, handy when the string contains double quotes\n",
    "text='he asked her,\"Why did you do that?\"'\n",
    "print(text)\n",
    "#2)double quote: it is a regular string, handy when the string contains single quotes\n",
    "text2=\"this car is karim's car\"\n",
    "print(text2)\n",
    "#3)triple quote: it is multi-line string\n",
    "multi=\"\"\"i am\n",
    "a multi line \n",
    "string\"\"\"\n",
    "print(multi)"
   ]
  },
  {
   "cell_type": "markdown",
   "id": "da839bbd-cbfe-4735-ba8b-76abce47dd97",
   "metadata": {},
   "source": [
    "## 5. Types Conversion"
   ]
  },
  {
   "cell_type": "code",
   "execution_count": 202,
   "id": "da5fc8de-e535-4c83-b555-8a0e27de05ae",
   "metadata": {},
   "outputs": [
    {
     "name": "stdout",
     "output_type": "stream",
     "text": [
      "16\n",
      "12\n",
      "1\n",
      "10.0\n",
      "0.0\n",
      "25.9\n",
      "True\n",
      "(1+0j)\n",
      "(2+9j)\n",
      "12.59\n"
     ]
    }
   ],
   "source": [
    "#there are built-in python functions that converts a datatype to another datatype\n",
    "#these are:int(),float(),bool(),complex,str()\n",
    "#int() can convert all datatypes except complex\n",
    "#float()takes all datatypes except complex\n",
    "#bool() works for all datatypes\n",
    "#complex() taes all datatypes, if it is a string it should be a complex nuber string\n",
    "#str() takes all datatypes\n",
    "print(int(16.59))\n",
    "print(int('12'))\n",
    "print(int(True))\n",
    "\n",
    "print(float(10))\n",
    "print(float(False))\n",
    "print(float('25.9'))\n",
    "\n",
    "print(bool('arim'))\n",
    "\n",
    "print(complex(True))\n",
    "print(complex('2+9j'))\n",
    "\n",
    "print(str(12.59))"
   ]
  },
  {
   "cell_type": "code",
   "execution_count": null,
   "id": "9f2f9f6d-bd7b-40ec-a9c6-74a669db6716",
   "metadata": {},
   "outputs": [],
   "source": []
  },
  {
   "cell_type": "code",
   "execution_count": null,
   "id": "c0a6ada3-9cad-4e57-945f-9195b29cef13",
   "metadata": {},
   "outputs": [],
   "source": []
  }
 ],
 "metadata": {
  "kernelspec": {
   "display_name": "Python 3 (ipykernel)",
   "language": "python",
   "name": "python3"
  },
  "language_info": {
   "codemirror_mode": {
    "name": "ipython",
    "version": 3
   },
   "file_extension": ".py",
   "mimetype": "text/x-python",
   "name": "python",
   "nbconvert_exporter": "python",
   "pygments_lexer": "ipython3",
   "version": "3.12.7"
  }
 },
 "nbformat": 4,
 "nbformat_minor": 5
}
