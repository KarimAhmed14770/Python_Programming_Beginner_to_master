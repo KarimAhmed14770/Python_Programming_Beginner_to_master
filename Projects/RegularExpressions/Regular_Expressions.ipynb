{
 "cells": [
  {
   "cell_type": "code",
   "execution_count": 3,
   "id": "45c500a8-b819-4364-9b9f-9889477b56c9",
   "metadata": {},
   "outputs": [],
   "source": [
    "#regular expressions are independent of programming languages\n",
    "#they are used for string pattern matching,validation and generating strings\n",
    "#Regular espressions are used in:\n",
    "#1)Text processing: Search and replace texts\n",
    "#2)Data validation:check data is in proper format\n",
    "#3)Extracting info:Extracting information fromm large text"
   ]
  },
  {
   "cell_type": "markdown",
   "id": "ec511bb2-206b-4dd8-a5a3-71ccf3c7050e",
   "metadata": {},
   "source": [
    "   Patterns                      String:\n",
    "1. 'a'                            'a'\n",
    "2. 'a|b'                          'a' or 'b' (either a or b is true)\n",
    "3. 'abc'                          'abc' (exactly abc will give true)\n",
    "4. '[abc]'                        'a' or 'b' or 'c'\n",
    "5. '(abc)'                        'abc' (exactly abc will give true)\n",
    "\n",
    "there are also some special characters:\n",
    "1. (+) means 1 or more repitition\n",
    "2. (*) means 0 or more repitition\n",
    "3. (?) means 0 or 1 repitition\n",
    "4. {m} exactly m repitions\n",
    "5. {m,n} from m to n repitions default 0 to inf\n"
   ]
  },
  {
   "cell_type": "code",
   "execution_count": 5,
   "id": "1d2e04a6-e5a1-4da3-b518-81130e606e58",
   "metadata": {},
   "outputs": [],
   "source": [
    "#to use regular esxpressions functions import re module\n",
    "import re\n",
    "\n"
   ]
  },
  {
   "cell_type": "markdown",
   "id": "fe7b8a33-de3f-4cda-a749-d6d0e895cb95",
   "metadata": {},
   "source": [
    "**match() Function:**"
   ]
  },
  {
   "cell_type": "code",
   "execution_count": 7,
   "id": "91f86316-3c48-439a-89aa-c6c799532bbd",
   "metadata": {},
   "outputs": [
    {
     "name": "stdout",
     "output_type": "stream",
     "text": [
      "None\n",
      "<re.Match object; span=(0, 1), match='a'>\n",
      "<re.Match object; span=(0, 3), match='abc'>\n"
     ]
    }
   ],
   "source": [
    "#match(pattern,string,flag=0) checks if the beginning of the string matches the pattern\n",
    "#if it matches it it returns a match object, if not it returns None\n",
    "print(re.match('[abc]+','play'))\n",
    "print(re.match('[abc]','abcplay'))\n",
    "print(re.match('[abc]+','abcplay'))\n",
    "\n"
   ]
  },
  {
   "cell_type": "markdown",
   "id": "ea1f37d4-0767-46f9-bbaf-0a459f4e1f80",
   "metadata": {},
   "source": [
    "**fullmatch()**:"
   ]
  },
  {
   "cell_type": "code",
   "execution_count": 9,
   "id": "3af52d63-8696-416b-bdd5-061425f75258",
   "metadata": {},
   "outputs": [
    {
     "name": "stdout",
     "output_type": "stream",
     "text": [
      "<re.Match object; span=(0, 5), match='hello'>\n",
      "None\n"
     ]
    }
   ],
   "source": [
    "#fullmatch(pattern,string,flag=0) checks if the entire string matches the pattern\n",
    "#if it matches it it returns a match object, if not it returns None\n",
    "print(re.fullmatch('hello','hello'))\n",
    "print(re.fullmatch('hello','hello bro'))"
   ]
  },
  {
   "cell_type": "markdown",
   "id": "f3b1f5f2-97a8-4f3b-a2c2-5956312fe8e1",
   "metadata": {},
   "source": [
    "**search()**:"
   ]
  },
  {
   "cell_type": "code",
   "execution_count": 11,
   "id": "c909ad1b-dd73-4c3b-aa15-e0107bf55794",
   "metadata": {},
   "outputs": [
    {
     "name": "stdout",
     "output_type": "stream",
     "text": [
      "<re.Match object; span=(2, 3), match='a'>\n",
      "<re.Match object; span=(0, 1), match='c'>\n",
      "<re.Match object; span=(0, 1), match='c'>\n",
      "<re.Match object; span=(0, 5), match='abccc'>\n"
     ]
    }
   ],
   "source": [
    "#search(pattern,string,flag=0) it will return with the first occurence of the pattern\n",
    "#if it finds it it returns a match object, if not it returns None\n",
    "print(re.search('a','play'))\n",
    "print(re.search('[abc]+','cplay'))\n",
    "print(re.search('[abc]','cccplay'))\n",
    "print(re.search('[abc]+','abcccplay'))\n",
    "\n"
   ]
  },
  {
   "cell_type": "markdown",
   "id": "28fcd49f-7b28-406e-9aad-57ce349f6a37",
   "metadata": {},
   "source": [
    "**findall():**"
   ]
  },
  {
   "cell_type": "code",
   "execution_count": 13,
   "id": "bf69e93c-1796-4234-a45b-0f9a87c65021",
   "metadata": {},
   "outputs": [
    {
     "name": "stdout",
     "output_type": "stream",
     "text": [
      "['a', 'b', 'a', 'c', 'b']\n",
      "['a', 'ba', 'c', 'b']\n",
      "['ball']\n",
      "['will']\n"
     ]
    }
   ],
   "source": [
    "#findall(pattern,string,flag=0) will search for the pattern in the whole string\n",
    "#it returns a list of found patterns\n",
    "print(re.findall('[abc]','i will play football in the club'))\n",
    "print(re.findall('[abc]+','i will play football in the club'))\n",
    "print(re.findall('(ball)','i will play football in the club'))\n",
    "print(re.findall('will','i will play football in the club'))"
   ]
  },
  {
   "cell_type": "markdown",
   "id": "88d48ef6-6682-47ee-898a-1148bbdad57f",
   "metadata": {},
   "source": [
    "**split()**:\n"
   ]
  },
  {
   "cell_type": "code",
   "execution_count": 15,
   "id": "ff1827c8-a825-4743-b97b-341a44ed5298",
   "metadata": {},
   "outputs": [
    {
     "data": {
      "text/plain": [
       "['he told me hi', ' i replied hi', 'how are u?']"
      ]
     },
     "execution_count": 15,
     "metadata": {},
     "output_type": "execute_result"
    }
   ],
   "source": [
    "#split(pattern,string,maxsplit=0,flag=0) will split a string on a certain pattern\n",
    "#returns a list of split strings based on the pattern\n",
    "re.split('X','he told me hiX i replied hiXhow are u?') #\n"
   ]
  },
  {
   "cell_type": "markdown",
   "id": "08c952ba-7811-4bf9-a88b-aff85e9ab8a3",
   "metadata": {},
   "source": [
    "**Special Characters**:\n",
    "1. [..] set of possible characters allowed\n",
    "2. [^..] all charcters except in bracket\n",
    "3. . any character except newline\n",
    "4. ^ should match with the beginning of the string\n",
    "5. $ should match the end of the string\n",
    "6. R|S should match with pattern R or Pattern S"
   ]
  },
  {
   "cell_type": "code",
   "execution_count": 37,
   "id": "526b9d52-961b-49fa-add7-f07d40faaedb",
   "metadata": {},
   "outputs": [
    {
     "name": "stdout",
     "output_type": "stream",
     "text": [
      "['am', 'very', 'happy', 'to', 'see', 'you', 'arim']\n",
      "['Karim']\n",
      "['I am very happy to see you Karim.']\n"
     ]
    }
   ],
   "source": [
    "#'[A-Z]' is the range of capital letters from A to Z\n",
    "#'[a-z]' is the range of small letters from a to z\n",
    "#'[0-9]' is the range of digits from 0 to 9\n",
    "#'[a-z]+' this represents any dictionary word in lower case\n",
    "#'[A-Z][a-z]+' to search for names or titles\n",
    "s1='I am very happy to see you Karim.'\n",
    "print(re.findall('[a-z]+',s1))\n",
    "print(re.findall('[A-Z][a-z]+',s1))\n",
    "print(re.findall('.+',s1))\n",
    "\n"
   ]
  },
  {
   "cell_type": "code",
   "execution_count": 31,
   "id": "383720b0-7d92-414d-ba35-3715e2d398c6",
   "metadata": {},
   "outputs": [
    {
     "name": "stdout",
     "output_type": "stream",
     "text": [
      "['i am very', ' happy', ' to see u']\n"
     ]
    }
   ],
   "source": [
    "s1='i am very*&* happy&^% to see u*^*'\n",
    "print(re.findall('[^*&^%]+',s1))\n"
   ]
  },
  {
   "cell_type": "code",
   "execution_count": null,
   "id": "3c90c9d6-a2e5-469c-b975-bfbdd8a6606c",
   "metadata": {},
   "outputs": [],
   "source": []
  }
 ],
 "metadata": {
  "kernelspec": {
   "display_name": "Python 3 (ipykernel)",
   "language": "python",
   "name": "python3"
  },
  "language_info": {
   "codemirror_mode": {
    "name": "ipython",
    "version": 3
   },
   "file_extension": ".py",
   "mimetype": "text/x-python",
   "name": "python",
   "nbconvert_exporter": "python",
   "pygments_lexer": "ipython3",
   "version": "3.12.7"
  }
 },
 "nbformat": 4,
 "nbformat_minor": 5
}
