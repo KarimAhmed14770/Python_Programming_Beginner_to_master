{
 "cells": [
  {
   "cell_type": "markdown",
   "id": "9edcbbf5-ce78-421d-a36a-366c6eb71c61",
   "metadata": {},
   "source": [
    "# Strings and its Methods"
   ]
  },
  {
   "cell_type": "markdown",
   "id": "af1e39b6-386e-4234-81a0-45369bedfbff",
   "metadata": {},
   "source": [
    "## Find and Index"
   ]
  },
  {
   "cell_type": "code",
   "execution_count": 20,
   "id": "9098ea74-0438-4e2e-961d-40048567dafc",
   "metadata": {},
   "outputs": [
    {
     "name": "stdout",
     "output_type": "stream",
     "text": [
      "6\n",
      "4\n",
      "7\n",
      "7\n",
      "-1\n",
      "6\n",
      "6\n"
     ]
    }
   ],
   "source": [
    "#find(sub,start,end) this method searches for a substring given in sub, with starting index and endind index, it will return the index of the first char\n",
    "#if the substring is found, if not found it will return -1\n",
    "#rfind(sub,start,end)will search for a substring but from the back to the start in a reverse order\n",
    "#syntax for using var_name.find(substring,start,end)\n",
    "s1='Hello boys'\n",
    "x=s1.find('boy')\n",
    "print(x)\n",
    "x=s1.find('o')#it will  return the index of the first 'o' it meets\n",
    "print(x)\n",
    "x=s1.find('o',5)#we stated the starting index of searching as 5 so the search starts from there\n",
    "print(x)\n",
    "x=s1.rfind('o')#this will start the search from the end of the string\n",
    "print(x)\n",
    "x=s1.find('z')#will retunr -1 because it will not find it\n",
    "print(x)\n",
    "s2='Karim Ahmed Hamdy'\n",
    "x=s2.find('Ahmed')\n",
    "print(x)\n",
    "x=s2.find('A')\n",
    "print(x)"
   ]
  },
  {
   "cell_type": "code",
   "execution_count": 34,
   "id": "0bf0c541-1957-4098-b201-c14b37cce49b",
   "metadata": {},
   "outputs": [
    {
     "name": "stdout",
     "output_type": "stream",
     "text": [
      "9\n",
      "7\n"
     ]
    }
   ],
   "source": [
    "#index(sub,start,end) it will search for a string and return its index, but if the substring is not found it gives error\n",
    "#unlike find that returns -1\n",
    "#rindex(sub,start,end) seaarches in reverse\n",
    "s1='Hello World!'\n",
    "x=s1.index('ld')\n",
    "print(x)\n",
    "#x=s1.index('x') this line will give error\n",
    "#print(x)\n",
    "x=s1.rindex('o')\n",
    "print(x)"
   ]
  },
  {
   "cell_type": "code",
   "execution_count": 36,
   "id": "2ab199b4-155d-428f-928d-60adb0b42a41",
   "metadata": {},
   "outputs": [
    {
     "name": "stdout",
     "output_type": "stream",
     "text": [
      "3\n",
      "1\n",
      "0\n"
     ]
    }
   ],
   "source": [
    "#count(sub,start,end) this will coount the occurences of a substring in a string and will return the number counted,if not found it returns 0\n",
    "s1='Hello how are you'\n",
    "x=s1.count('o')\n",
    "print(x)\n",
    "x=s1.count('o',10)\n",
    "print(x)\n",
    "x=s1.count('o',16)\n",
    "print(x)"
   ]
  },
  {
   "cell_type": "markdown",
   "id": "74033022-fbf4-44de-86ee-92efa45f9c42",
   "metadata": {},
   "source": [
    "## String Alignment and Padding"
   ]
  },
  {
   "cell_type": "code",
   "execution_count": 51,
   "id": "935b6dd3-8d6e-4672-b213-5d2a440a2905",
   "metadata": {},
   "outputs": [
    {
     "name": "stdout",
     "output_type": "stream",
     "text": [
      "hello bro***********\n",
      "           hello bro\n",
      "$$$$$hello bro$$$$$$\n",
      "00000000000hello bro\n"
     ]
    }
   ],
   "source": [
    "#ljust(width,fillchar) it adjusts th string that the first element is on 0 index and it sets a new width to the string with\n",
    "#fill character ' ' by default and it may be altered\n",
    "s1='hello bro'\n",
    "x=s1.ljust(20,'*')\n",
    "print(x)\n",
    "#rjust(width,fillchar) it adjusts th string that the last element is on the last index and it sets a new width to the string with\n",
    "#fill character ' ' by default and it may be altered\n",
    "x=s1.rjust(20)\n",
    "print(x)\n",
    "#center(width,fillchar) it adjusts that the string is centered and it sets a new width to the string with\n",
    "#fill character ' ' by default and it may be altered\n",
    "x=s1.center(20,'$')\n",
    "print(x)\n",
    "#zfill(width) it adjusts that the string is width and fills zeroes in left handside\n",
    "x=s1.zfill(20)\n",
    "print(x)"
   ]
  },
  {
   "cell_type": "markdown",
   "id": "3dd96f8e-7e51-4bed-8f39-4e4da52fbaa9",
   "metadata": {},
   "source": [
    "## Strip Methods"
   ]
  },
  {
   "cell_type": "code",
   "execution_count": 74,
   "id": "f2cc1fcc-8a2d-48bc-9de3-b0397a703511",
   "metadata": {},
   "outputs": [
    {
     "name": "stdout",
     "output_type": "stream",
     "text": [
      "hello baby\n",
      "$$hello honey\n",
      "****$$hello honey\n",
      "hello honey\n",
      "hello honey\n",
      "hello bro ******\n",
      "hello bro ******$$$$\n",
      "hello bro \n",
      "hello bro \n",
      " hey\n",
      "hey\n",
      "%$^hey**##\n",
      "hey\n"
     ]
    }
   ],
   "source": [
    "#lstrip(chars=' ') it strips given characters from the left handside of a string, by default whitespace\n",
    "s1='      hello baby'\n",
    "x=s1.lstrip()\n",
    "print(x)\n",
    "s1='****$$hello honey'\n",
    "x=s1.lstrip('*')#if given one character it strips all occurences of this charcter till it faces a different 1\n",
    "print(x)\n",
    "x=s1.lstrip('$')\n",
    "print(x)\n",
    "x=s1.lstrip('*$')# if given 2 or more characters it strips all occurences of both characters till it faces a different one it stops\n",
    "print(x)\n",
    "x=s1.lstrip('$*')# if given 2 or more characters it strips all occurences of both characters till it faces a different one it stops\n",
    "print(x)\n",
    "\n",
    "#rstrip(chars=' ') it strips given characters from the left handside of a string, by default whitespace\n",
    "s1='hello bro ******$$$$'\n",
    "x=s1.rstrip('$') \n",
    "print(x)\n",
    "x=s1.rstrip('*')\n",
    "print(x)\n",
    "x=s1.rstrip('$*')\n",
    "print(x)\n",
    "x=s1.rstrip('*$')\n",
    "print(x)\n",
    "\n",
    "#strip(chars=' ') it strips fro left then strips from right\n",
    "s1='**** hey****'\n",
    "x=s1.strip('*')\n",
    "print(x)\n",
    "x=s1.strip('* ')\n",
    "print(x)\n",
    "s1='***%$^hey**##^'\n",
    "x=s1.strip('*^') #will give '%$^hey**##'\n",
    "print(x)\n",
    "x=s1.strip('*%^$#')\n",
    "print(x)"
   ]
  },
  {
   "cell_type": "markdown",
   "id": "9af55a16-73e4-4d9c-99b7-250cf63a765c",
   "metadata": {},
   "source": [
    "## Joining and Splitting Strings"
   ]
  },
  {
   "cell_type": "code",
   "execution_count": 81,
   "id": "58aea349-e938-49f8-b446-d47e2e1b1060",
   "metadata": {},
   "outputs": [
    {
     "name": "stdout",
     "output_type": "stream",
     "text": [
      "hello my brother\n",
      "hey friends\n"
     ]
    }
   ],
   "source": [
    "#replace(old,new,count) replaces old substring with new one based on a given count\n",
    "s1='hellox myx brotherx'\n",
    "x=s1.replace('x','',3)\n",
    "print(x)\n",
    "s1='hello friends'\n",
    "x=s1.replace('hello','hey')\n",
    "print(x)"
   ]
  },
  {
   "cell_type": "code",
   "execution_count": 83,
   "id": "b5182122-2cc7-45a6-b03c-64b8fa5df72d",
   "metadata": {},
   "outputs": [
    {
     "name": "stdout",
     "output_type": "stream",
     "text": [
      "b-e-s-t\n"
     ]
    }
   ],
   "source": [
    "#join(iterable) s1.join(s2) will take s1 and place it between each two characters of s2\n",
    "s1='-'\n",
    "s2='best'\n",
    "x=s1.join(s2)\n",
    "print(x)"
   ]
  },
  {
   "cell_type": "code",
   "execution_count": 99,
   "id": "d83768b0-605f-4e90-96ef-b2cdbc0bfd90",
   "metadata": {},
   "outputs": [
    {
     "name": "stdout",
     "output_type": "stream",
     "text": [
      "['Karim', 'Ahmed', 'Hamdy']\n",
      "Ahmed\n",
      "['i a', ' the best ', 'an']\n",
      "['i a', ' the best ', 'an']\n",
      "['Karim', 'is', 'here', 'guys']\n"
     ]
    }
   ],
   "source": [
    "#split(sep,maxsplit) to split a string into multiple strings,giving the seperator fro which the split starts\n",
    "#and the maximum number of splits, the seperator character is removed\n",
    "#it returns a list of strings\n",
    "s1='Karim Ahmed Hamdy'\n",
    "x=s1.split(' ',2)\n",
    "print(x)\n",
    "print(x[1])\n",
    "s1='i am the best man'\n",
    "x=s1.split('m',2)#i a , the best ,an \n",
    "print(x)\n",
    "#rsplit(sep,maxsplit) starts the splitting from the right handside\n",
    "x=s1.rsplit('m',2)\n",
    "print(x)\n",
    "#splitlines(keepends) if the string is ulti line string it will split each line in a string\n",
    "s1='''Karim\n",
    "is\n",
    "here\n",
    "guys'''\n",
    "x=s1.splitlines()\n",
    "print(x)"
   ]
  },
  {
   "cell_type": "markdown",
   "id": "ff573071-e34c-4a28-b541-2dc426741855",
   "metadata": {},
   "source": [
    "## Prefix and Suffix"
   ]
  },
  {
   "cell_type": "code",
   "execution_count": 124,
   "id": "dc506270-b857-413c-8195-8a94fe40e39a",
   "metadata": {},
   "outputs": [
    {
     "name": "stdout",
     "output_type": "stream",
     "text": [
      "True\n",
      "True\n",
      "True\n",
      "True\n",
      "False\n",
      "lo boys\n",
      "hello b\n",
      "('Python ', 'is', ' very easy')\n",
      "('Karim ', 'Ah', 'med')\n",
      "('Kari', 'm', ' Ahmed')\n",
      "('Karim Ah', 'm', 'ed')\n"
     ]
    }
   ],
   "source": [
    "#startswith(prefix,start,end) checs whether the string starts with a prefix from a given index to the ending index\n",
    "#it returns true or false\n",
    "s1='hello boys'\n",
    "x=s1.startswith('hello')\n",
    "print(x)\n",
    "x=s1.startswith('boys',6)\n",
    "print(x)\n",
    "x=s1.startswith('llo',2,6)\n",
    "print(x)\n",
    "#endswith(suffix,start,end) checks if the string ends with a certain suffix given a starting index and endign index for the search\n",
    "x=s1.endswith('ys')\n",
    "print(x)\n",
    "x=s1.endswith('zs')\n",
    "print(x)\n",
    "#removeprefix(prefix) gives you a new string with the givn prefix reoved\n",
    "x=s1.removeprefix('hel')\n",
    "print(x)\n",
    "#removesuffix(suffix) gives u a new string with the given suffix removed\n",
    "x=s1.removesuffix('oys')\n",
    "print(x)\n",
    "#partition(sep) it makes the string sinto 3 parts with the given seperator as the middle part\n",
    "s1='Python is very easy'\n",
    "x=s1.partition('is')\n",
    "print(x)\n",
    "s1='Karim Ahmed'\n",
    "x=s1.partition('Ah')\n",
    "print(x)\n",
    "#rpartition(sep) it starts the partition from right to left\n",
    "x=s1.partition('m')\n",
    "print(x)\n",
    "x=s1.rpartition('m')\n",
    "print(x)"
   ]
  },
  {
   "cell_type": "markdown",
   "id": "0e4a4ac4-6e51-4d36-98ff-f48fef211507",
   "metadata": {},
   "source": [
    "## Case Conversion"
   ]
  },
  {
   "cell_type": "code",
   "execution_count": 141,
   "id": "f0fd3db6-b92e-4043-afce-f21f6dc66d74",
   "metadata": {},
   "outputs": [
    {
     "name": "stdout",
     "output_type": "stream",
     "text": [
      "Hello world karim is here\n",
      "HELLO WORLD KARIM IS HERE\n",
      "hello world karim is here\n",
      "Hello World Karim Is Here\n",
      "hELLO wORLD kARIM iS hERE\n",
      "hamada\n"
     ]
    }
   ],
   "source": [
    "#capitalize() makes the first char of a string capital and the rest lower case\n",
    "s1='hello world karim is here'\n",
    "x=s1.capitalize()\n",
    "print(x)\n",
    "#upper() aes the whole string upper case\n",
    "x=s1.upper()\n",
    "print(x)\n",
    "#lower() makes the whole string lower case\n",
    "x=x.lower()\n",
    "print(x)\n",
    "#title() maes each word in the string start with an upper case letter\n",
    "x=s1.title()\n",
    "print(x)\n",
    "#swapcase() swaps the upper case for lower and vice versa\n",
    "x=x.swapcase()\n",
    "print(x)\n",
    "#casefold() lie lower() but it wors with all languages\n",
    "s1='HAMADA'\n",
    "x=s1.casefold()\n",
    "print(x)"
   ]
  },
  {
   "cell_type": "markdown",
   "id": "324a8908-c7f6-4e82-b101-dc7840f39afc",
   "metadata": {},
   "source": [
    "## Inquiry Methods"
   ]
  },
  {
   "cell_type": "code",
   "execution_count": 158,
   "id": "52b544c9-740f-478c-8498-adfb62c9f91f",
   "metadata": {},
   "outputs": [
    {
     "name": "stdout",
     "output_type": "stream",
     "text": [
      "False\n",
      "True\n",
      "True\n",
      "True\n",
      "True\n",
      "True\n"
     ]
    }
   ],
   "source": [
    "#returns true or false\n",
    "#isalpha() checs if all characters are alphabets\n",
    "#islower() checks if all charcters are lower case\n",
    "#isupper() checks if all characters are upper case\n",
    "#istitle() chec if it is in title style\n",
    "s1='Hello World'\n",
    "x=s1.isalpha() # it will give false because whitespace is not alphabetic\n",
    "print(x)\n",
    "s1='Hello'\n",
    "x=s1.isalpha()\n",
    "print(x)\n",
    "x=s1.istitle()\n",
    "print(x)\n",
    "s1='Hello Boy'\n",
    "x=s1.istitle()\n",
    "print(x)\n",
    "s1='hello friend'\n",
    "x=s1.islower()\n",
    "print(x)\n",
    "s1='HELLO THERE'\n",
    "x=s1.isupper()\n",
    "print(x)"
   ]
  },
  {
   "cell_type": "code",
   "execution_count": 166,
   "id": "31d21903-f8c0-4468-a3b5-6089b0bde3d8",
   "metadata": {},
   "outputs": [
    {
     "name": "stdout",
     "output_type": "stream",
     "text": [
      "True\n",
      "False\n",
      "False\n",
      "True\n",
      "True\n"
     ]
    }
   ],
   "source": [
    "#isspace() if the string is one or more whitespaces it returns true\n",
    "#isprintable() if the string has no escape sequences it returns true\n",
    "#isidentifier() it checs if the string can be an identifier name\n",
    "s1='    '\n",
    "x=s1.isspace()\n",
    "print(x)\n",
    "s1='Hello\\n'\n",
    "x=s1.isprintable()\n",
    "print(x)\n",
    "x=s1.isidentifier()\n",
    "print(x)\n",
    "s1='Hello'\n",
    "x=s1.isprintable()\n",
    "print(x)\n",
    "x=s1.isidentifier()\n",
    "print(x)"
   ]
  },
  {
   "cell_type": "code",
   "execution_count": 176,
   "id": "d01109af-3e78-49e8-b2ab-d704467ef49e",
   "metadata": {},
   "outputs": [
    {
     "name": "stdout",
     "output_type": "stream",
     "text": [
      "True\n",
      "False\n",
      "False\n",
      "True\n",
      "False\n",
      "False\n",
      "True\n",
      "False\n",
      "False\n"
     ]
    }
   ],
   "source": [
    "#isdigit() checks if the whole string is diggit or not - and . are not digits\n",
    "#isdecimal() checks if the string is decimal or not , - or . gives false\n",
    "#isnumeric() checs if the string is a nuber or not, - or . gives false\n",
    "s1='1023'\n",
    "s2='-10'\n",
    "s3='13.56'\n",
    "x=s1.isdigit()\n",
    "print(x)\n",
    "x=s2.isdigit()\n",
    "print(x)\n",
    "x=s3.isdigit()\n",
    "print(x)\n",
    "x=s1.isdecimal()\n",
    "print(x)\n",
    "x=s2.isdecimal()\n",
    "print(x)\n",
    "x=s3.isdecimal()\n",
    "print(x)\n",
    "x=s1.isnumeric()\n",
    "print(x)\n",
    "x=s2.isnumeric()\n",
    "print(x)\n",
    "x=s3.isnumeric()\n",
    "print(x)"
   ]
  },
  {
   "cell_type": "code",
   "execution_count": 190,
   "id": "0bb5cb1d-95bf-47b5-942b-400fab587409",
   "metadata": {},
   "outputs": [
    {
     "name": "stdout",
     "output_type": "stream",
     "text": [
      "True\n",
      "True\n",
      "False\n",
      "True\n",
      "True\n",
      "True\n"
     ]
    }
   ],
   "source": [
    "#isascii() checks if it has ascii code\n",
    "s1='a'\n",
    "s2='ab'\n",
    "s3='أب'\n",
    "x=s1.isascii()\n",
    "print(x)\n",
    "x=s2.isascii()\n",
    "print(x)\n",
    "x=s3.isascii()\n",
    "print(x)\n",
    "\n",
    "#isalnum() checks if it is alphanumeric numbers and alphabets only . or - gives false\n",
    "s1='2nd'\n",
    "s2='22'\n",
    "x=s1.isalnum()\n",
    "print(x)\n",
    "x=s1.isalnum()\n",
    "print(x)\n",
    "s3='hello'\n",
    "x=s3.isalnum()\n",
    "print(x)"
   ]
  },
  {
   "cell_type": "code",
   "execution_count": null,
   "id": "ffc68061-f968-40ba-a8b9-5351b1a4705b",
   "metadata": {},
   "outputs": [],
   "source": []
  }
 ],
 "metadata": {
  "kernelspec": {
   "display_name": "Python 3 (ipykernel)",
   "language": "python",
   "name": "python3"
  },
  "language_info": {
   "codemirror_mode": {
    "name": "ipython",
    "version": 3
   },
   "file_extension": ".py",
   "mimetype": "text/x-python",
   "name": "python",
   "nbconvert_exporter": "python",
   "pygments_lexer": "ipython3",
   "version": "3.12.7"
  }
 },
 "nbformat": 4,
 "nbformat_minor": 5
}
