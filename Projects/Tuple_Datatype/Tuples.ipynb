{
 "cells": [
  {
   "cell_type": "markdown",
   "id": "74940a28-62d7-44ce-922f-ef354946fa27",
   "metadata": {},
   "source": [
    "# Tuples:"
   ]
  },
  {
   "cell_type": "markdown",
   "id": "80380892-ff8d-4fc2-91df-42bd60ad6335",
   "metadata": {},
   "source": [
    "**Tuple**:tuple is same as the list but the only difference is that it  is immutable(once created can't be modified,can't add ,edit or remove elements)"
   ]
  },
  {
   "cell_type": "code",
   "execution_count": 1,
   "id": "2fa0005f-4229-453d-922d-d9dc6de0d954",
   "metadata": {},
   "outputs": [
    {
     "name": "stdout",
     "output_type": "stream",
     "text": [
      "<class 'tuple'>\n"
     ]
    }
   ],
   "source": [
    "#how to create a tuple\n",
    "#1) t=(tuple elements seperated by ,) using ()\n",
    "t1=(1,2,3,4)\n",
    "print(type(t1))"
   ]
  },
  {
   "cell_type": "code",
   "execution_count": 2,
   "id": "c1bd5f46-b3b0-4f7a-afdc-d96777292485",
   "metadata": {},
   "outputs": [
    {
     "name": "stdout",
     "output_type": "stream",
     "text": [
      "<class 'tuple'> (0, 100, 400, 900, 1600, 2500, 3600, 4900, 6400, 8100, 10000)\n"
     ]
    }
   ],
   "source": [
    "#2)t=tuple(iterable) creating a tuple from iterable\n",
    "L=[x**2 for x in range(101) if x%10==0]\n",
    "t=tuple(L)\n",
    "print(type(t),t)"
   ]
  },
  {
   "cell_type": "code",
   "execution_count": 3,
   "id": "f5a7d5be-1198-4f94-923e-78cbc7741912",
   "metadata": {},
   "outputs": [
    {
     "name": "stdout",
     "output_type": "stream",
     "text": [
      "<class 'tuple'> ()\n"
     ]
    }
   ],
   "source": [
    "#3) creating an empty tuple t=()\n",
    "t=()\n",
    "print(type(t),t)"
   ]
  },
  {
   "cell_type": "code",
   "execution_count": 4,
   "id": "af2cd0f1-7977-4c9d-9184-ebe11bdd98f7",
   "metadata": {},
   "outputs": [
    {
     "name": "stdout",
     "output_type": "stream",
     "text": [
      "type(a): <class 'int'>\ttype(t):<class 'tuple'>\n"
     ]
    }
   ],
   "source": [
    "#4)creating a tuple of a single element t=(3,) note: if you write t=(3) it will be seen as int\n",
    "a=(3)\n",
    "t=(3,)\n",
    "print(f\"type(a): {type(a)}\\ttype(t):{type(t)}\")"
   ]
  },
  {
   "cell_type": "code",
   "execution_count": 5,
   "id": "666921af-b436-4b0a-8b2e-7fcd42011979",
   "metadata": {},
   "outputs": [
    {
     "name": "stdout",
     "output_type": "stream",
     "text": [
      "<class 'tuple'> (1, 2, 3, 6, 7, 8, 9)\n"
     ]
    }
   ],
   "source": [
    "#5)if you put more than one value in a variable, python will automatically pach the values and store them in the variable as a tuple\n",
    "t=1,2,3,6,7,8,9\n",
    "print(type(t),t)\n",
    "#a,b=1,2,3,4,5,6 this will give error\n"
   ]
  },
  {
   "cell_type": "code",
   "execution_count": 6,
   "id": "c35a43cf-82f8-4179-bdeb-70350340e1f9",
   "metadata": {},
   "outputs": [
    {
     "name": "stdout",
     "output_type": "stream",
     "text": [
      "<class 'generator'> <generator object <genexpr> at 0x000001BDEC16A030>\n",
      "<class 'tuple'> (0, 10, 20, 30, 40, 50)\n",
      "<class 'tuple'> (0, 1, 4, 9, 16)\n"
     ]
    }
   ],
   "source": [
    "#6)tuple comprehension: same as list comprehension but must be unpacked\n",
    "#note: t=(exp for item in iterable condition) will produce something called generator object\n",
    "#this generator object must be unpacked using *\n",
    "#t=(*(exp for item in iterable condition),) the , in the end is there in case that the tuple was 1 element only\n",
    "generator=(x*5 for x in range(11) if x%2==0)\n",
    "print(type(generator),generator)\n",
    "t=(*(x*5 for x in range(11) if x%2==0),)\n",
    "print(type(t),t)\n",
    "\n",
    "#or simply use t=tuple(list comprehension)\n",
    "t=tuple([x**2 for x in range(5)])\n",
    "print(type(t),t)\n",
    "\n"
   ]
  },
  {
   "cell_type": "markdown",
   "id": "fafaa433-b0e0-4bb7-9285-410626fdf8e4",
   "metadata": {},
   "source": [
    "## Reading from a Tuple(you can't write to a tuple):"
   ]
  },
  {
   "cell_type": "code",
   "execution_count": 7,
   "id": "f4022841-eeef-41c5-a224-b60ecb7d97b1",
   "metadata": {},
   "outputs": [
    {
     "name": "stdout",
     "output_type": "stream",
     "text": [
      "<class 'tuple'> (0, 10, 20, 30, 40, 50, 60, 70, 80, 90, 100)\n"
     ]
    }
   ],
   "source": [
    "t=tuple([x*10 for x in range(11)])\n",
    "print(type(t),t)"
   ]
  },
  {
   "cell_type": "code",
   "execution_count": 8,
   "id": "f75bc4e3-3053-4b95-988a-fecb4dd247d5",
   "metadata": {},
   "outputs": [
    {
     "name": "stdout",
     "output_type": "stream",
     "text": [
      "30\n",
      "100\n",
      "100\n"
     ]
    }
   ],
   "source": [
    "#reading using a certain index\n",
    "print(t[3])\n",
    "print(t[len(t)-1])\n",
    "print(t[-1])"
   ]
  },
  {
   "cell_type": "code",
   "execution_count": 9,
   "id": "ab40d576-38f9-49eb-8bab-518ef151f887",
   "metadata": {},
   "outputs": [
    {
     "name": "stdout",
     "output_type": "stream",
     "text": [
      "(60, 50, 40, 30, 20)\n",
      "(0, 10, 20, 30, 40, 50, 60, 70, 80, 90, 100)\n"
     ]
    }
   ],
   "source": [
    "#reading by slicing [start:stop:step]\n",
    "print(t[6:1:-1])#will start from index 6 to index 2 with step -1\n",
    "print(t[:]) #will print all of the tuple"
   ]
  },
  {
   "cell_type": "code",
   "execution_count": 10,
   "id": "a4c527b6-fe77-480d-bead-27646beeff36",
   "metadata": {},
   "outputs": [
    {
     "name": "stdout",
     "output_type": "stream",
     "text": [
      "0 10 20 30 40 50 60 70 80 90 100 \n",
      "0 10 20 30 40 50 60 70 80 90 100 \n"
     ]
    }
   ],
   "source": [
    "#traversing through a tuple\n",
    "for x in t:\n",
    "    print(x,end=\" \")\n",
    "counter=0\n",
    "print(\"\")\n",
    "while counter <len(t):\n",
    "    print(t[counter],end=\" \")\n",
    "    counter+=1\n",
    "print(\"\")"
   ]
  },
  {
   "cell_type": "code",
   "execution_count": 11,
   "id": "d734e42b-3cce-49a2-9378-24463e963283",
   "metadata": {},
   "outputs": [],
   "source": [
    "#note slicing and indexing is always done using Square Brackets[]"
   ]
  },
  {
   "cell_type": "markdown",
   "id": "0dfd5cd8-c510-4129-8eb5-d9a9893b4e32",
   "metadata": {},
   "source": [
    "## Packing and Unpacking(works on all Sequences):"
   ]
  },
  {
   "cell_type": "code",
   "execution_count": 12,
   "id": "d0117d8c-7852-4c51-be55-739a37b0f61f",
   "metadata": {},
   "outputs": [
    {
     "name": "stdout",
     "output_type": "stream",
     "text": [
      "(1, 2, 3, 4, 5, 6)\n"
     ]
    }
   ],
   "source": [
    "#operations on tuples\n",
    "#1)Concatenation\n",
    "t1,t2=(1,2,3),(4,5,6)\n",
    "t3=t1+t2\n",
    "print(t3)"
   ]
  },
  {
   "cell_type": "code",
   "execution_count": 13,
   "id": "464fb7e3-bff2-4727-848f-4c668b23a1eb",
   "metadata": {},
   "outputs": [
    {
     "name": "stdout",
     "output_type": "stream",
     "text": [
      "(1, 2, 3, 1, 2, 3)\n"
     ]
    }
   ],
   "source": [
    "#2)Repetition\n",
    "t3=t1*2\n",
    "print(t3)"
   ]
  },
  {
   "cell_type": "code",
   "execution_count": 14,
   "id": "773fdde5-ee06-4397-8ffd-a0caa9e58655",
   "metadata": {},
   "outputs": [
    {
     "name": "stdout",
     "output_type": "stream",
     "text": [
      "a: 1\t b: 2\t c: [3, 4, 5]\t\n",
      "a: 1\t b: [2, 3, 4]\t c: 5\t\n",
      "a: [1, 2, 3]\t b: 4\t c: 5\t\n"
     ]
    }
   ],
   "source": [
    "#3)Packing and unpacking\n",
    "t=1,2,3,4,5 # when you put multiple elements in only 1 variable, python packs them as a tuple and store it in the variable\n",
    "#this is called packing\n",
    "a,b,c,d,e=t #when you try to store a tuple in many variables, python unpack the tuple and assign 1 element for each variable\n",
    "#this is called unpacking this also happens with strings and lists\n",
    "#note in unpacking: number of variables must be equal to the number of elements in the tuple\n",
    "#if you want to store 2 elements in 2 variables and the rest in 1 variable use *\n",
    "#example\n",
    "a,b,*c=t\n",
    "print(f\"a: {a}\\t b: {b}\\t c: {c}\\t\")\n",
    "#or we can do \n",
    "a,*b,c=t\n",
    "print(f\"a: {a}\\t b: {b}\\t c: {c}\\t\")\n",
    "#or we can do\n",
    "*a,b,c=t\n",
    "print(f\"a: {a}\\t b: {b}\\t c: {c}\\t\")\n",
    "\n"
   ]
  },
  {
   "cell_type": "code",
   "execution_count": 15,
   "id": "13e46558-8d40-4247-aba9-1f7f1738023c",
   "metadata": {},
   "outputs": [
    {
     "name": "stdout",
     "output_type": "stream",
     "text": [
      "1\n",
      "[1, 2, 3, 4, 5]\n"
     ]
    }
   ],
   "source": [
    "#packing and unpacking with lists\n",
    "L=[1,2,3,4,5,6]\n",
    "a,b,c,d,e,f=L\n",
    "print(a)\n",
    "*a,b=L\n",
    "print(a)"
   ]
  },
  {
   "cell_type": "code",
   "execution_count": null,
   "id": "206cef63-4cb0-4f12-ada5-facafc0f2060",
   "metadata": {},
   "outputs": [],
   "source": []
  }
 ],
 "metadata": {
  "kernelspec": {
   "display_name": "Python 3 (ipykernel)",
   "language": "python",
   "name": "python3"
  },
  "language_info": {
   "codemirror_mode": {
    "name": "ipython",
    "version": 3
   },
   "file_extension": ".py",
   "mimetype": "text/x-python",
   "name": "python",
   "nbconvert_exporter": "python",
   "pygments_lexer": "ipython3",
   "version": "3.10.18"
  }
 },
 "nbformat": 4,
 "nbformat_minor": 5
}
