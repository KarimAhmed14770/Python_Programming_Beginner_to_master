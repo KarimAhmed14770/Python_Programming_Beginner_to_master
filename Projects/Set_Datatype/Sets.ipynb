{
 "cells": [
  {
   "cell_type": "markdown",
   "id": "5a8947b5-7bf9-46ce-8784-01314a31cd89",
   "metadata": {},
   "source": [
    "# Sets\n"
   ]
  },
  {
   "cell_type": "markdown",
   "id": "a1a343d2-e38c-4f0f-bfbf-0516ef323feb",
   "metadata": {},
   "source": [
    "**Sets**:a set is a collection of unique unordered elements which is mutable, a set doesn't allow slicing or indexing because elements are unordered having no indeces"
   ]
  },
  {
   "cell_type": "code",
   "execution_count": 1,
   "id": "a18438d8-4b00-4db9-954f-b1656fd69c8e",
   "metadata": {},
   "outputs": [
    {
     "name": "stdout",
     "output_type": "stream",
     "text": [
      "<class 'set'> {96, 66, 35, 70, 10, 42, 82, 51, 23}\n",
      "<class 'set'> {34, 20, 21, 54, 7, 10, 77}\n"
     ]
    }
   ],
   "source": [
    "#how to create a set\n",
    "#1) using curly braces: S={elements of a set seperated by a comma}\n",
    "s={10,23,35,42,51,66,70,82,96}\n",
    "print(type(s),s)\n",
    "s={10,10,20,20,54,34,34,21,21,77,7} #note set only contains unique unordered elements, it removes any duplicates \n",
    "print(type(s),s)\n"
   ]
  },
  {
   "cell_type": "code",
   "execution_count": 2,
   "id": "7c3eb5a8-bd27-4c81-be41-6fddd4f84c28",
   "metadata": {},
   "outputs": [
    {
     "name": "stdout",
     "output_type": "stream",
     "text": [
      "<class 'set'> {1, 5, 9, 13, 17, 21}\n"
     ]
    }
   ],
   "source": [
    "#2)using an iterable and set function\n",
    "s=set([x*2+1 for x in range(11) if x%2==0])\n",
    "print(type(s),s)"
   ]
  },
  {
   "cell_type": "code",
   "execution_count": 3,
   "id": "d30e281d-9630-4d0e-8c32-a4ee633c9788",
   "metadata": {},
   "outputs": [
    {
     "name": "stdout",
     "output_type": "stream",
     "text": [
      "<class 'set'> {'python'}\n",
      "<class 'set'> {'p', 'h', 't', 'n', 'y', 'o'}\n"
     ]
    }
   ],
   "source": [
    "s={'python'}\n",
    "print(type(s),s)\n",
    "s=set('python')\n",
    "print(type(s),s)"
   ]
  },
  {
   "cell_type": "code",
   "execution_count": 4,
   "id": "46dc70a5-e8d1-4ec8-9e1d-d393b0ee914b",
   "metadata": {},
   "outputs": [
    {
     "name": "stdout",
     "output_type": "stream",
     "text": [
      "<class 'set'> set()\n",
      "<class 'dict'> {}\n"
     ]
    }
   ],
   "source": [
    "#creating an empty set S=set() note that s={} creates an empty dictionary not an empty set\n",
    "s=set()\n",
    "print(type(s),s)\n",
    "dic={}\n",
    "print(type(dic),dic)\n"
   ]
  },
  {
   "cell_type": "code",
   "execution_count": 5,
   "id": "32e71cbd-fb10-4fb0-809a-25f3e8fe8fa8",
   "metadata": {},
   "outputs": [
    {
     "name": "stdout",
     "output_type": "stream",
     "text": [
      "<class 'set'> {96, 66, 35, 70, 10, 42, 82, 51, 23}\n",
      "<class 'set'> {96, 66, 35, 70, 10, 42, 11, 82, 51, 23}\n",
      "<class 'set'> {96, 66, 35, 70, (10, 44, 86), 10, 42, 11, 82, 51, 23, 'karim'}\n"
     ]
    }
   ],
   "source": [
    "#adding an element to the set set_name.add(element) it will go in unknown place in the set, and the set will be reordered\n",
    "s={10,23,35,42,51,66,70,82,96}\n",
    "print(type(s),s)\n",
    "s.add(11)\n",
    "print(type(s),s)\n",
    "#you can add iterables to a set strings,tuples but you can't add list because list is unhashable\n",
    "#in a set you can only have immutable type of data\n",
    "l=[1,40,21]\n",
    "t=(10,44,86)\n",
    "st='karim'\n",
    "#s.add(l) this gives an error\n",
    "s.add(t)\n",
    "s.add(st)\n",
    "print(type(s),s)\n"
   ]
  },
  {
   "cell_type": "code",
   "execution_count": 6,
   "id": "9af5fde1-84f7-4b4d-919d-32f3502d3bec",
   "metadata": {},
   "outputs": [
    {
     "name": "stdout",
     "output_type": "stream",
     "text": [
      "<class 'set'> {96, 66, 35, 70, 10, 42, 11, 82, 51, 23}\n",
      "<class 'set'> {66, 35, 70, 10, 42, 11, 82, 51, 23}\n",
      "<class 'set'> {35, 70, 10, 42, 11, 82, 51, 23}\n"
     ]
    }
   ],
   "source": [
    "#to remove an element from the set: set_name.remove(element) or set_name.pop()\n",
    "#set_name.remove(element) will remove the specific element if exist\n",
    "#set_name.pop() will remove a random element\n",
    "s.remove(t)\n",
    "s.remove(st)\n",
    "print(type(s),s)\n",
    "s.pop()\n",
    "print(type(s),s)\n",
    "s.pop()\n",
    "print(type(s),s)\n",
    "\n"
   ]
  },
  {
   "cell_type": "code",
   "execution_count": 7,
   "id": "1d17a0fe-1d67-447f-af89-8ac1dd97a85b",
   "metadata": {},
   "outputs": [
    {
     "name": "stdout",
     "output_type": "stream",
     "text": [
      "{1, 2, 3, 4, 5, 6, 7, 8, 9}\n"
     ]
    }
   ],
   "source": [
    "#set operations: same as mathematic set operations\n",
    "s1,s2={1,2,3,4,5},{4,5,6,7,8,9}\n",
    "s3=s1.union(s2) #set.union(set) adds both sets together and removes duplicates, stores result in a set\n",
    "print(s3)"
   ]
  },
  {
   "cell_type": "code",
   "execution_count": 8,
   "id": "dcc48bd4-54d6-4cd5-af77-30a18cc25574",
   "metadata": {},
   "outputs": [
    {
     "name": "stdout",
     "output_type": "stream",
     "text": [
      "{4, 5}\n"
     ]
    }
   ],
   "source": [
    "#intersection\n",
    "s3=s1.intersection(s2)#set.intersection(set) will get the elements thate exist in both s1 and s2 and put them in a set\n",
    "print(s3)"
   ]
  },
  {
   "cell_type": "code",
   "execution_count": 9,
   "id": "71e03350-f4bf-483a-ac04-748b13a03fe0",
   "metadata": {},
   "outputs": [
    {
     "name": "stdout",
     "output_type": "stream",
     "text": [
      "{1, 2, 3}\n",
      "{8, 9, 6, 7}\n"
     ]
    }
   ],
   "source": [
    "#difference()\n",
    "s3=s1.difference(s2)#gets the elemets that exist in s1 and doesn't exist in s2\n",
    "print(s3)\n",
    "s3=s2.difference(s1)\n",
    "print(s3)"
   ]
  },
  {
   "cell_type": "code",
   "execution_count": 10,
   "id": "94d698c1-fb0b-4da4-ae32-9e0fa69520d0",
   "metadata": {},
   "outputs": [
    {
     "name": "stdout",
     "output_type": "stream",
     "text": [
      "{1, 2, 3, 6, 7, 8, 9}\n"
     ]
    }
   ],
   "source": [
    "#symetric difference \n",
    "s3=s1.symmetric_difference(s2)#gets all the elements of s1 and s2 except the intersection between them \n",
    "print(s3)"
   ]
  },
  {
   "cell_type": "code",
   "execution_count": 11,
   "id": "839056df-a675-4cde-b3a4-4f72ce0618d0",
   "metadata": {},
   "outputs": [
    {
     "name": "stdout",
     "output_type": "stream",
     "text": [
      "{4, 5}\n"
     ]
    }
   ],
   "source": [
    "#intersection_update(),union_update,difference_update,symmetric_difference_update(), stores the result in the first set updating it\n",
    "s1.intersection_update(s2)#set1.intersection_update(set2) gets the intersection and stores it in set1 updating set1\n",
    "print(s1)"
   ]
  },
  {
   "cell_type": "code",
   "execution_count": 12,
   "id": "a71d4a18-1c07-4229-a95c-bb248a568141",
   "metadata": {},
   "outputs": [
    {
     "name": "stdout",
     "output_type": "stream",
     "text": [
      "{96, 66, 35, 99, 70, 10, 42, 82, 51, 23}\n"
     ]
    }
   ],
   "source": [
    "#adding and deleting elements from a set\n",
    "#1) add(element) adds an element to the set\n",
    "s={10,23,35,42,51,66,70,82,96}\n",
    "s.add(99)\n",
    "print(s)"
   ]
  },
  {
   "cell_type": "code",
   "execution_count": 13,
   "id": "6ce22bee-71ac-4af2-936e-07926521fe0c",
   "metadata": {},
   "outputs": [
    {
     "name": "stdout",
     "output_type": "stream",
     "text": [
      "{96, 66, 35, 99, 3, 70, 4, 10, 42, 82, 51, 23}\n",
      "{1, 2, 3, 'python'}\n",
      "{1, 2, 3, 'p', 'h', 't', 'n', 'y', 'o'}\n"
     ]
    }
   ],
   "source": [
    "#2) update(iterable) adds the elements of an iterable to the set\n",
    "s.update([3,4,10])\n",
    "print(s)\n",
    "a={1,2,3}\n",
    "b={1,2,3}\n",
    "a.add('python')\n",
    "print(a)\n",
    "b.update('python')\n",
    "print(b)"
   ]
  },
  {
   "cell_type": "code",
   "execution_count": 14,
   "id": "56db217e-1bdf-46ea-8e5c-da78ce3b3e83",
   "metadata": {},
   "outputs": [
    {
     "name": "stdout",
     "output_type": "stream",
     "text": [
      "{96, 66, 35, 99, 3, 70, 4, 10, 42, 82, 51, 23}\n",
      "{96, 66, 35, 99, 3, 4, 10, 42, 82, 23}\n"
     ]
    }
   ],
   "source": [
    "#3)copy() mmakes a copy of the set,remove(element) removes a specific element from the set\n",
    "s_copy=s.copy()\n",
    "s_copy.remove(70)\n",
    "s_copy.remove(51)\n",
    "print(s)\n",
    "print(s_copy)"
   ]
  },
  {
   "cell_type": "code",
   "execution_count": 15,
   "id": "a295044f-17a8-4579-a6a7-bd527414a84d",
   "metadata": {},
   "outputs": [
    {
     "name": "stdout",
     "output_type": "stream",
     "text": [
      "96 {66, 35, 99, 3, 70, 4, 10, 42, 82, 51, 23}\n"
     ]
    }
   ],
   "source": [
    "#4)pop() removes a random element and returns it\n",
    "popped=s.pop()\n",
    "print(popped,s)\n"
   ]
  },
  {
   "cell_type": "code",
   "execution_count": 16,
   "id": "51366b31-b66b-465b-868e-94b7b6a15932",
   "metadata": {},
   "outputs": [
    {
     "name": "stdout",
     "output_type": "stream",
     "text": [
      "{66, 35, 99, 3, 70, 4, 10, 82, 51, 23}\n"
     ]
    }
   ],
   "source": [
    "#5)discard(element) removes a specific element from the set\n",
    "s.discard(42)\n",
    "print(s)"
   ]
  },
  {
   "cell_type": "markdown",
   "id": "ef0f8dc2-c843-4f2f-a8fe-a14e10c64e85",
   "metadata": {},
   "source": [
    "**the difference between discard and remove on sets :**\n",
    "both of them remove a specific element from the set, but if the element does not exist, remove raises a KeyError, discard does not raise an error if the element is not found,"
   ]
  },
  {
   "cell_type": "code",
   "execution_count": 17,
   "id": "68d21955-b118-46dd-9491-3eb5f5b9ae4b",
   "metadata": {},
   "outputs": [
    {
     "name": "stdout",
     "output_type": "stream",
     "text": [
      "set()\n"
     ]
    }
   ],
   "source": [
    "#6)clear() clears the set\n",
    "s.clear()\n",
    "print(s)\n"
   ]
  },
  {
   "cell_type": "code",
   "execution_count": 18,
   "id": "4e6a6245-bf77-4296-bcf4-0be4c2f0185b",
   "metadata": {},
   "outputs": [
    {
     "name": "stdout",
     "output_type": "stream",
     "text": [
      "{4, 70, 40, 108, 18}\n"
     ]
    }
   ],
   "source": [
    "#set comprehension, same as list comprehension but using {} and it have no duplicates\n",
    "s={((x**2)+(3*x)) for x in range(11) if x%2!=0}\n",
    "print(s)\n",
    "#or simply s=set(list comprehension)"
   ]
  },
  {
   "cell_type": "code",
   "execution_count": null,
   "id": "c5289292-b6ae-4e50-a355-94740f7a0456",
   "metadata": {},
   "outputs": [],
   "source": []
  }
 ],
 "metadata": {
  "kernelspec": {
   "display_name": "Python 3 (ipykernel)",
   "language": "python",
   "name": "python3"
  },
  "language_info": {
   "codemirror_mode": {
    "name": "ipython",
    "version": 3
   },
   "file_extension": ".py",
   "mimetype": "text/x-python",
   "name": "python",
   "nbconvert_exporter": "python",
   "pygments_lexer": "ipython3",
   "version": "3.10.18"
  }
 },
 "nbformat": 4,
 "nbformat_minor": 5
}
