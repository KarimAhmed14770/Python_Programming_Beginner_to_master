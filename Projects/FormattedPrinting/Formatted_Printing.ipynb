{
 "cells": [
  {
   "cell_type": "markdown",
   "id": "66d48f76-b2b6-4779-9dba-57bb482c2f7b",
   "metadata": {},
   "source": [
    "# Formatted Printing"
   ]
  },
  {
   "cell_type": "markdown",
   "id": "0138d54f-5a2a-4abc-84ad-54d63a5e3df4",
   "metadata": {},
   "source": [
    "For every character on the keyboard there is either Ascii code available or unicode available or both\n",
    "they are codes that represents the character(ascii code is for english language, unicode is for all)"
   ]
  },
  {
   "cell_type": "code",
   "execution_count": 3,
   "id": "36b28013-935e-41d9-ad9b-83b00b42d9c3",
   "metadata": {},
   "outputs": [
    {
     "name": "stdout",
     "output_type": "stream",
     "text": [
      "97\n"
     ]
    }
   ],
   "source": [
    "#ord(char) to find the ascii code of a character \n",
    "print(ord('a'))"
   ]
  },
  {
   "cell_type": "code",
   "execution_count": 5,
   "id": "bb7d851d-d5c1-46ba-998c-4af7e75407c3",
   "metadata": {},
   "outputs": [
    {
     "name": "stdout",
     "output_type": "stream",
     "text": [
      "a\n"
     ]
    }
   ],
   "source": [
    "#chr(ascii) to find the char of a given ascii\n",
    "print(chr(97))"
   ]
  },
  {
   "cell_type": "markdown",
   "id": "1a6d2dc2-11f1-40f1-b957-2f38a5777827",
   "metadata": {},
   "source": [
    "unicode has formats up to 32 bits:\n",
    "1. utf8 (allow  1 or 4 bytes per charcter)\n",
    "2. utf16 (allow 2 or 4 bytes per character)\n",
    "3. utf32 (allow only 4 bytes per charcter)\n",
    "\n",
    "to find a unicode of a charcter visit unicode.org\n",
    "to write a unicode write'\\u {unicode}'"
   ]
  },
  {
   "cell_type": "code",
   "execution_count": 11,
   "id": "986829d1-db84-4b5f-b2f8-afb2947f781c",
   "metadata": {},
   "outputs": [
    {
     "name": "stdout",
     "output_type": "stream",
     "text": [
      "ض\n"
     ]
    }
   ],
   "source": [
    "#to print arabicض \n",
    "print('\\u0636')"
   ]
  },
  {
   "cell_type": "code",
   "execution_count": 31,
   "id": "361faaa6-b13d-4830-ad3b-237e1db441fa",
   "metadata": {},
   "outputs": [
    {
     "name": "stdout",
     "output_type": "stream",
     "text": [
      "A\n",
      "A\n",
      "ω\n",
      "ω\n",
      "ω\n"
     ]
    }
   ],
   "source": [
    "#octal an hexa escape sequence for characters representation\n",
    "#\\xhh two digits of hexadecimal ascii code\n",
    "#\\ooo three octal digits ascii code\n",
    "#\\uhhhh 4 digits of hexadecimal unicode\n",
    "#\\Uhhhhhhhh 8 digits of hexadecimal unicode\n",
    "#\\N{name} give the name in unicode database and it prints the character\n",
    "print('\\x41')\n",
    "print('\\101')\n",
    "print('\\u03c9') #greek omega\n",
    "print('\\U000003c9')#greek omega\n",
    "print('\\N{GREEK SMALL LETTER OMEGA}')# we get the name from the standard unicodes names"
   ]
  },
  {
   "cell_type": "markdown",
   "id": "b9f517fc-c108-44fc-a912-0467b115bdc4",
   "metadata": {},
   "source": [
    "# Print Function"
   ]
  },
  {
   "cell_type": "code",
   "execution_count": 34,
   "id": "02f0bbee-3174-447f-99d1-0dc3922af91e",
   "metadata": {},
   "outputs": [
    {
     "name": "stdout",
     "output_type": "stream",
     "text": [
      "Name:Karim age:25\n"
     ]
    }
   ],
   "source": [
    "#print function footprint: print(*obj,sep=' ',end='\\n',File=sys.stdout,Flush=False)\n",
    "#C style printing using %\n",
    "name,age=\"Karim\",25\n",
    "print(\"Name:%s age:%d\" %(name,age))"
   ]
  },
  {
   "cell_type": "code",
   "execution_count": 44,
   "id": "36e642f6-4472-42e3-9b06-817859c4c34e",
   "metadata": {},
   "outputs": [
    {
     "name": "stdout",
     "output_type": "stream",
     "text": [
      "name:Karim\tage:25\n",
      "30 20 10 0 \n"
     ]
    }
   ],
   "source": [
    "#python formatted printing\n",
    "print('name:{}\\tage:{}'.format(name,age)) #each element in format takes index starting from 0 and upwards\n",
    "a,b,c,d=0,10,20,30\n",
    "print('{3} {2} {1} {0} '.format(a,b,c,d)) #these {} are called place holders"
   ]
  },
  {
   "cell_type": "code",
   "execution_count": 46,
   "id": "794373ea-29b5-41c5-b537-597a24021cb1",
   "metadata": {},
   "outputs": [],
   "source": [
    "#in formatted printing {} place holders contain{index:flagwidthprecision}\n",
    "#etc"
   ]
  },
  {
   "cell_type": "code",
   "execution_count": 50,
   "id": "c33502c4-e06f-45e5-8a79-89c196f12e8b",
   "metadata": {},
   "outputs": [
    {
     "name": "stdout",
     "output_type": "stream",
     "text": [
      "my name is Karim i am 25 years old\n"
     ]
    }
   ],
   "source": [
    "#formatted printing using f\n",
    "print(f\"my name is {name} i am {age} years old\")"
   ]
  },
  {
   "cell_type": "code",
   "execution_count": null,
   "id": "52439ba1-f640-495e-8525-d7692110e3fb",
   "metadata": {},
   "outputs": [],
   "source": []
  }
 ],
 "metadata": {
  "kernelspec": {
   "display_name": "Python 3 (ipykernel)",
   "language": "python",
   "name": "python3"
  },
  "language_info": {
   "codemirror_mode": {
    "name": "ipython",
    "version": 3
   },
   "file_extension": ".py",
   "mimetype": "text/x-python",
   "name": "python",
   "nbconvert_exporter": "python",
   "pygments_lexer": "ipython3",
   "version": "3.12.7"
  }
 },
 "nbformat": 4,
 "nbformat_minor": 5
}
