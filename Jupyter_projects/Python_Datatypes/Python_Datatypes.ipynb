{
 "cells": [
  {
   "cell_type": "markdown",
   "id": "88de7add-e8d5-4615-a307-3e0c94d44765",
   "metadata": {},
   "source": [
    "\n",
    "# Python Datatypes\n"
   ]
  },
  {
   "cell_type": "markdown",
   "id": "1f7e6363-e589-4158-aa2f-ba40b297429d",
   "metadata": {},
   "source": [
    "## what are variables?\n"
   ]
  },
  {
   "cell_type": "code",
   "execution_count": 18,
   "id": "f3a49e1d-3247-4d6d-b7c9-38de1645364f",
   "metadata": {},
   "outputs": [
    {
     "name": "stdout",
     "output_type": "stream",
     "text": [
      "150\n"
     ]
    }
   ],
   "source": [
    "#each variable name in python carries a reference for the data it holds\n",
    "#1)Normal Declaration and assignment\n",
    "length=15\n",
    "width=10\n",
    "area=length*width\n",
    "print(area)"
   ]
  },
  {
   "cell_type": "code",
   "execution_count": 20,
   "id": "d5614919-f06d-4ec5-8154-fe28235b2f81",
   "metadata": {},
   "outputs": [
    {
     "name": "stdout",
     "output_type": "stream",
     "text": [
      "[10, 11, 3, 2, 12]\n"
     ]
    }
   ],
   "source": [
    "prices=[10,11,3,2,12]\n",
    "print(prices)"
   ]
  },
  {
   "cell_type": "code",
   "execution_count": 22,
   "id": "00a174de-c72b-41d8-a46b-a7180bcd17ab",
   "metadata": {},
   "outputs": [
    {
     "name": "stdout",
     "output_type": "stream",
     "text": [
      "soap 12.5 1\n"
     ]
    }
   ],
   "source": [
    "#Multiple Declarations\n",
    "name,price,qty='soap',12.5,1\n",
    "print(name,price,qty)"
   ]
  },
  {
   "cell_type": "code",
   "execution_count": 24,
   "id": "c7e2ace7-2337-429c-aa60-dc35a31aab24",
   "metadata": {},
   "outputs": [
    {
     "name": "stdout",
     "output_type": "stream",
     "text": [
      "140729251932600 140729251932600 140729251932600 140729251932600 140729251932600 140729251932600\n"
     ]
    }
   ],
   "source": [
    "#multiple declarations\n",
    "#each variable in python has an id, if two variables have the same id it means they are pointing to or carrying the same data\n",
    "a=b=c=1\n",
    "w,e,z=1,1,1\n",
    "print(id(a),id(b),id(c),id(w),id(e),id(z))"
   ]
  },
  {
   "cell_type": "code",
   "execution_count": null,
   "id": "9b512ba0-b37f-4100-9026-93db595c65db",
   "metadata": {},
   "outputs": [],
   "source": []
  }
 ],
 "metadata": {
  "kernelspec": {
   "display_name": "Python 3 (ipykernel)",
   "language": "python",
   "name": "python3"
  },
  "language_info": {
   "codemirror_mode": {
    "name": "ipython",
    "version": 3
   },
   "file_extension": ".py",
   "mimetype": "text/x-python",
   "name": "python",
   "nbconvert_exporter": "python",
   "pygments_lexer": "ipython3",
   "version": "3.12.7"
  }
 },
 "nbformat": 4,
 "nbformat_minor": 5
}
